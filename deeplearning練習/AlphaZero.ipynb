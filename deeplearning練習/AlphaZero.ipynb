{
 "cells": [
  {
   "cell_type": "code",
   "execution_count": 10,
   "metadata": {},
   "outputs": [],
   "source": [
    "# P68～\n",
    "from tensorflow import keras\n",
    "import numpy as np\n",
    "import matplotlib.pyplot as plt\n",
    "%matplotlib inline"
   ]
  },
  {
   "cell_type": "code",
   "execution_count": 11,
   "metadata": {},
   "outputs": [],
   "source": [
    "# データセットの準備\n",
    "(train_images, train_labels), (test_images, test_labels) = keras.datasets.mnist.load_data()"
   ]
  },
  {
   "cell_type": "code",
   "execution_count": 12,
   "metadata": {},
   "outputs": [
    {
     "name": "stdout",
     "output_type": "stream",
     "text": [
      "(60000, 28, 28)\n",
      "(60000,)\n",
      "(10000, 28, 28)\n",
      "(10000,)\n"
     ]
    }
   ],
   "source": [
    "# データセットのシェイプの確認\n",
    "print(train_images.shape)\n",
    "print(train_labels.shape)\n",
    "print(test_images.shape)\n",
    "print(test_labels.shape)"
   ]
  },
  {
   "cell_type": "code",
   "execution_count": 13,
   "metadata": {},
   "outputs": [],
   "source": [
    "# データセットの画像の確認\n",
    "# 割愛"
   ]
  },
  {
   "cell_type": "code",
   "execution_count": 14,
   "metadata": {},
   "outputs": [
    {
     "name": "stdout",
     "output_type": "stream",
     "text": [
      "[5 0 4 1 9 2 1 3 1 4]\n"
     ]
    }
   ],
   "source": [
    "#  データセットのラベルの確認\n",
    "print(train_labels[0:10])"
   ]
  },
  {
   "cell_type": "code",
   "execution_count": 15,
   "metadata": {},
   "outputs": [
    {
     "name": "stdout",
     "output_type": "stream",
     "text": [
      "(60000, 784)\n",
      "(10000, 784)\n"
     ]
    }
   ],
   "source": [
    "# データセットの画像の前処理\n",
    "train_images = train_images.reshape((train_images.shape[0], 784))\n",
    "test_images = test_images.reshape((test_images.shape[0], 784))\n",
    "\n",
    "# データセットの画像の前処理後のシェイプの確認\n",
    "print(train_images.shape)\n",
    "print(test_images.shape)"
   ]
  },
  {
   "cell_type": "code",
   "execution_count": 16,
   "metadata": {},
   "outputs": [
    {
     "name": "stdout",
     "output_type": "stream",
     "text": [
      "(60000, 10)\n",
      "(10000, 10)\n"
     ]
    }
   ],
   "source": [
    "# データセットのラベルの前処理\n",
    "train_labels = keras.utils.to_categorical(train_labels)\n",
    "test_labels =  keras.utils.to_categorical(test_labels)\n",
    "\n",
    "# データセットのラベルの前処理後のシェイプの確認\n",
    "print(train_labels.shape)\n",
    "print(test_labels.shape)"
   ]
  },
  {
   "cell_type": "code",
   "execution_count": 17,
   "metadata": {},
   "outputs": [],
   "source": [
    "# モデルの作成\n",
    "model = keras.models.Sequential()\n",
    "model.add(keras.layers.Dense(256, activation='sigmoid', input_shape=(784,)))  # 入力層\n",
    "model.add(keras.layers.Dense(128, activation='sigmoid'))  # 隠れ層\n",
    "model.add(keras.layers.Dropout(rate=0.5))\n",
    "model.add(keras.layers.Dense(10, activation='softmax'))  # 出力層"
   ]
  },
  {
   "cell_type": "code",
   "execution_count": 18,
   "metadata": {},
   "outputs": [],
   "source": [
    "# コンパイル\n",
    "model.compile(loss='categorical_crossentropy',optimizer=keras.optimizers.SGD(lr=0.1), metrics=['acc'])"
   ]
  },
  {
   "cell_type": "code",
   "execution_count": null,
   "metadata": {},
   "outputs": [
    {
     "name": "stdout",
     "output_type": "stream",
     "text": [
      "Epoch 1/5\n",
      "48000/48000 [==============================] - 109s 2ms/step - loss: 2.2217 - acc: 0.1825 - val_loss: 2.1508 - val_acc: 0.1885\n",
      "Epoch 2/5\n",
      "48000/48000 [==============================] - 114s 2ms/step - loss: 2.2424 - acc: 0.1912 - val_loss: 2.1104 - val_acc: 0.2032\n",
      "Epoch 3/5\n",
      "48000/48000 [==============================] - 113s 2ms/step - loss: 2.2262 - acc: 0.1995 - val_loss: 2.0569 - val_acc: 0.2792\n",
      "Epoch 4/5\n",
      "48000/48000 [==============================] - 114s 2ms/step - loss: 2.1471 - acc: 0.2100 - val_loss: 2.0295 - val_acc: 0.2533\n",
      "Epoch 5/5\n",
      "25960/48000 [===============>..............] - ETA: 45s - loss: 2.1174 - acc: 0.2197"
     ]
    }
   ],
   "source": [
    "# 学習\n",
    "history = model.fit(train_images, train_labels, batch_size=1, epochs=5, validation_split=0.2)"
   ]
  },
  {
   "cell_type": "code",
   "execution_count": 25,
   "metadata": {},
   "outputs": [
    {
     "data": {
      "image/png": "[encoded data removed]",
      "text/plain": [
       "<Figure size 432x288 with 1 Axes>"
      ]
     },
     "metadata": {
      "needs_background": "light"
     },
     "output_type": "display_data"
    }
   ],
   "source": [
    "# グラフの表示\n",
    "plt.plot(history.history['acc'], label='acc')\n",
    "plt.plot(history.history['val_acc'], label='val_acc')\n",
    "plt.xlabel('epoch')\n",
    "plt.ylabel('accuracy')\n",
    "plt.legend(loc='best')\n",
    "plt.show()"
   ]
  },
  {
   "cell_type": "code",
   "execution_count": 26,
   "metadata": {},
   "outputs": [
    {
     "name": "stdout",
     "output_type": "stream",
     "text": [
      "(60000, 10)\n",
      "(10000, 10)\n"
     ]
    }
   ],
   "source": [
    "print(train_labels.shape)\n",
    "print(test_labels.shape)"
   ]
  },
  {
   "cell_type": "code",
   "execution_count": 12,
   "metadata": {},
   "outputs": [
    {
     "name": "stdout",
     "output_type": "stream",
     "text": [
      "Epoch 1/20\n",
      "375/375 [==============================] - 1s 3ms/step - loss: 1.5346 - acc: 0.4981 - val_loss: 0.4611 - val_acc: 0.8906\n",
      "Epoch 2/20\n",
      "375/375 [==============================] - 1s 2ms/step - loss: 0.5719 - acc: 0.8362 - val_loss: 0.3513 - val_acc: 0.9078\n",
      "Epoch 3/20\n",
      "375/375 [==============================] - 1s 2ms/step - loss: 0.4743 - acc: 0.8636 - val_loss: 0.3129 - val_acc: 0.9128\n",
      "Epoch 4/20\n",
      "375/375 [==============================] - 1s 2ms/step - loss: 0.4312 - acc: 0.8748 - val_loss: 0.2907 - val_acc: 0.9182\n",
      "Epoch 5/20\n",
      "375/375 [==============================] - 1s 2ms/step - loss: 0.3879 - acc: 0.8872 - val_loss: 0.2784 - val_acc: 0.9227\n",
      "Epoch 6/20\n",
      "375/375 [==============================] - 1s 2ms/step - loss: 0.3869 - acc: 0.8900 - val_loss: 0.2628 - val_acc: 0.9266\n",
      "Epoch 7/20\n",
      "375/375 [==============================] - 1s 2ms/step - loss: 0.3708 - acc: 0.8937 - val_loss: 0.2557 - val_acc: 0.9277\n",
      "Epoch 8/20\n",
      "375/375 [==============================] - 1s 2ms/step - loss: 0.3466 - acc: 0.8996 - val_loss: 0.2462 - val_acc: 0.9306\n",
      "Epoch 9/20\n",
      "375/375 [==============================] - 1s 2ms/step - loss: 0.3423 - acc: 0.9000 - val_loss: 0.2537 - val_acc: 0.9261\n",
      "Epoch 10/20\n",
      "375/375 [==============================] - 1s 2ms/step - loss: 0.3478 - acc: 0.8987 - val_loss: 0.2398 - val_acc: 0.9316\n",
      "Epoch 11/20\n",
      "375/375 [==============================] - 1s 2ms/step - loss: 0.3314 - acc: 0.9014 - val_loss: 0.2412 - val_acc: 0.9305\n",
      "Epoch 12/20\n",
      "375/375 [==============================] - 1s 2ms/step - loss: 0.3280 - acc: 0.9040 - val_loss: 0.2286 - val_acc: 0.9356\n",
      "Epoch 13/20\n",
      "375/375 [==============================] - 1s 2ms/step - loss: 0.3244 - acc: 0.9036 - val_loss: 0.2294 - val_acc: 0.9333\n",
      "Epoch 14/20\n",
      "375/375 [==============================] - 1s 2ms/step - loss: 0.3159 - acc: 0.9069 - val_loss: 0.2280 - val_acc: 0.9302\n",
      "Epoch 15/20\n",
      "375/375 [==============================] - 1s 2ms/step - loss: 0.3042 - acc: 0.9116 - val_loss: 0.2328 - val_acc: 0.9318\n",
      "Epoch 16/20\n",
      "375/375 [==============================] - 1s 2ms/step - loss: 0.3020 - acc: 0.9098 - val_loss: 0.2130 - val_acc: 0.9382\n",
      "Epoch 17/20\n",
      "375/375 [==============================] - ETA: 0s - loss: 0.2896 - acc: 0.916 - 1s 2ms/step - loss: 0.2899 - acc: 0.9161 - val_loss: 0.2143 - val_acc: 0.9377\n",
      "Epoch 18/20\n",
      "375/375 [==============================] - 1s 2ms/step - loss: 0.2818 - acc: 0.9184 - val_loss: 0.2091 - val_acc: 0.9395\n",
      "Epoch 19/20\n",
      "375/375 [==============================] - 1s 2ms/step - loss: 0.2774 - acc: 0.9167 - val_loss: 0.2132 - val_acc: 0.9374\n",
      "Epoch 20/20\n",
      "375/375 [==============================] - 1s 2ms/step - loss: 0.2863 - acc: 0.9147 - val_loss: 0.2057 - val_acc: 0.9399\n"
     ]
    }
   ],
   "source": [
    "history = model.fit(train_images, train_labels, batch_size=128, epochs=20,\n",
    "                    validation_split=0.2)"
   ]
  },
  {
   "cell_type": "code",
   "execution_count": null,
   "metadata": {},
   "outputs": [],
   "source": []
  }
 ],
 "metadata": {
  "kernelspec": {
   "display_name": "Python 3",
   "language": "python",
   "name": "python3"
  },
  "language_info": {
   "codemirror_mode": {
    "name": "ipython",
    "version": 3
   },
   "file_extension": ".py",
   "mimetype": "text/x-python",
   "name": "python",
   "nbconvert_exporter": "python",
   "pygments_lexer": "ipython3",
   "version": "3.8.5"
  }
 },
 "nbformat": 4,
 "nbformat_minor": 4
}
