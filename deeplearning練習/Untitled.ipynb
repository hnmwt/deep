{
 "cells": [
  {
   "cell_type": "code",
   "execution_count": 8,
   "metadata": {},
   "outputs": [],
   "source": [
    "import keras\n",
    "from keras.datasets import mnist\n",
    "from keras.models import Sequential\n",
    "from keras.layers import Dense, Dropout, InputLayer\n",
    "from keras.optimizers import RMSprop\n",
    "\n",
    "import matplotlib.pyplot as plt"
   ]
  },
  {
   "cell_type": "code",
   "execution_count": 11,
   "metadata": {},
   "outputs": [
    {
     "name": "stdout",
     "output_type": "stream",
     "text": [
      "x_train.shape(学習用の画像データ) :  (60000, 28, 28)\n",
      "y_train_shape(学習用の正解データ) :  (60000,)\n",
      "x_test.shape(検証用の画像データ) :  (10000, 28, 28)\n",
      "y_test.shape(検証用の正解データ) :  (10000,)\n"
     ]
    }
   ],
   "source": [
    "(x_train, y_train), (x_test, y_test) = mnist.load_data()\n",
    "print(\"x_train.shape(学習用の画像データ) : \", x_train.shape)\n",
    "print(\"y_train_shape(学習用の正解データ) : \", y_train.shape)\n",
    "print(\"x_test.shape(検証用の画像データ) : \", x_test.shape)\n",
    "print(\"y_test.shape(検証用の正解データ) : \", y_test.shape)"
   ]
  },
  {
   "cell_type": "code",
   "execution_count": 12,
   "metadata": {},
   "outputs": [
    {
     "name": "stdout",
     "output_type": "stream",
     "text": [
      "x_train.shape(学習用の画像データ) :  (60000, 784)\n",
      "y_train_shape(学習用の正解データ) :  (60000,)\n",
      "x_test.shape(検証用の画像データ) :  (10000, 784)\n",
      "y_test.shape(検証用の正解データ) :  (10000,)\n"
     ]
    }
   ],
   "source": [
    "x_train  = x_train.reshape(60000, 784)\n",
    "x_test   = x_test.reshape(10000, 784)\n",
    "print(\"x_train.shape(学習用の画像データ) : \", x_train.shape)\n",
    "print(\"y_train_shape(学習用の正解データ) : \", y_train.shape)\n",
    "print(\"x_test.shape(検証用の画像データ) : \", x_test.shape)\n",
    "print(\"y_test.shape(検証用の正解データ) : \", y_test.shape)"
   ]
  },
  {
   "cell_type": "code",
   "execution_count": 13,
   "metadata": {},
   "outputs": [],
   "source": [
    "# データを float 型に変換\n",
    "x_train = x_train.astype('float32')\n",
    "x_test  = x_test.astype('float32')\n",
    "\n",
    "# 0〜255 までの範囲のデータを 0〜1 までの範囲に変更\n",
    "x_train /= 255\n",
    "x_test  /= 255"
   ]
  },
  {
   "cell_type": "code",
   "execution_count": 14,
   "metadata": {},
   "outputs": [],
   "source": [
    "y_train = keras.utils.to_categorical(y_train, 10)\n",
    "y_test  = keras.utils.to_categorical(y_test, 10)"
   ]
  },
  {
   "cell_type": "code",
   "execution_count": 15,
   "metadata": {},
   "outputs": [
    {
     "name": "stdout",
     "output_type": "stream",
     "text": [
      "x_train.shape(学習用の画像データ) :  (60000, 784)\n",
      "y_train_shape(学習用の正解データ) :  (60000, 10)\n",
      "x_test.shape(検証用の画像データ) :  (10000, 784)\n",
      "y_test.shape(検証用の正解データ) :  (10000, 10)\n"
     ]
    }
   ],
   "source": [
    "print(\"x_train.shape(学習用の画像データ) : \", x_train.shape)\n",
    "print(\"y_train_shape(学習用の正解データ) : \", y_train.shape)\n",
    "print(\"x_test.shape(検証用の画像データ) : \", x_test.shape)\n",
    "print(\"y_test.shape(検証用の正解データ) : \", y_test.shape)"
   ]
  },
  {
   "cell_type": "code",
   "execution_count": 17,
   "metadata": {},
   "outputs": [],
   "source": [
    "# Dense : 第1引数で出力の次元数を指定します。入力の次元数はinput_shapeで指定します(指定しない場合は出力と同じ)\n",
    "model = Sequential()\n",
    "model.add(InputLayer(input_shape=(784,)))\n",
    "model.add(Dense(10, activation='softmax'))\n",
    "\n",
    "# モデルをコンパイルする\n",
    "model.compile(loss='categorical_crossentropy', optimizer='rmsprop', metrics=['accuracy'])"
   ]
  },
  {
   "cell_type": "code",
   "execution_count": 18,
   "metadata": {},
   "outputs": [
    {
     "name": "stdout",
     "output_type": "stream",
     "text": [
      "Epoch 1/20\n",
      "469/469 [==============================] - 1s 2ms/step - loss: 0.9646 - accuracy: 0.7573 - val_loss: 0.3438 - val_accuracy: 0.9069\n",
      "Epoch 2/20\n",
      "469/469 [==============================] - 1s 1ms/step - loss: 0.3372 - accuracy: 0.9067 - val_loss: 0.2983 - val_accuracy: 0.9154\n",
      "Epoch 3/20\n",
      "469/469 [==============================] - 0s 1ms/step - loss: 0.2994 - accuracy: 0.9167 - val_loss: 0.2885 - val_accuracy: 0.9186\n",
      "Epoch 4/20\n",
      "469/469 [==============================] - 0s 1ms/step - loss: 0.2875 - accuracy: 0.9193 - val_loss: 0.2781 - val_accuracy: 0.9235\n",
      "Epoch 5/20\n",
      "469/469 [==============================] - 1s 1ms/step - loss: 0.2765 - accuracy: 0.9226 - val_loss: 0.2764 - val_accuracy: 0.9223\n",
      "Epoch 6/20\n",
      "469/469 [==============================] - 1s 1ms/step - loss: 0.2688 - accuracy: 0.9239 - val_loss: 0.2729 - val_accuracy: 0.9247\n",
      "Epoch 7/20\n",
      "469/469 [==============================] - 1s 1ms/step - loss: 0.2663 - accuracy: 0.9260 - val_loss: 0.2700 - val_accuracy: 0.9258\n",
      "Epoch 8/20\n",
      "469/469 [==============================] - 1s 1ms/step - loss: 0.2684 - accuracy: 0.9258 - val_loss: 0.2692 - val_accuracy: 0.9257\n",
      "Epoch 9/20\n",
      "469/469 [==============================] - 0s 1ms/step - loss: 0.2657 - accuracy: 0.9268 - val_loss: 0.2690 - val_accuracy: 0.9263\n",
      "Epoch 10/20\n",
      "469/469 [==============================] - 1s 1ms/step - loss: 0.2599 - accuracy: 0.9281 - val_loss: 0.2670 - val_accuracy: 0.9265\n",
      "Epoch 11/20\n",
      "469/469 [==============================] - 1s 1ms/step - loss: 0.2623 - accuracy: 0.9286 - val_loss: 0.2713 - val_accuracy: 0.9260\n",
      "Epoch 12/20\n",
      "469/469 [==============================] - 0s 1ms/step - loss: 0.2603 - accuracy: 0.9282 - val_loss: 0.2691 - val_accuracy: 0.9266\n",
      "Epoch 13/20\n",
      "469/469 [==============================] - 0s 1ms/step - loss: 0.2625 - accuracy: 0.9284 - val_loss: 0.2687 - val_accuracy: 0.9256\n",
      "Epoch 14/20\n",
      "469/469 [==============================] - 1s 1ms/step - loss: 0.2581 - accuracy: 0.9297 - val_loss: 0.2683 - val_accuracy: 0.9282\n",
      "Epoch 15/20\n",
      "469/469 [==============================] - 1s 1ms/step - loss: 0.2593 - accuracy: 0.9314 - val_loss: 0.2681 - val_accuracy: 0.9285\n",
      "Epoch 16/20\n",
      "469/469 [==============================] - 1s 1ms/step - loss: 0.2505 - accuracy: 0.9324 - val_loss: 0.2695 - val_accuracy: 0.9265\n",
      "Epoch 17/20\n",
      "469/469 [==============================] - 1s 1ms/step - loss: 0.2532 - accuracy: 0.9315 - val_loss: 0.2702 - val_accuracy: 0.9274\n",
      "Epoch 18/20\n",
      "469/469 [==============================] - 1s 1ms/step - loss: 0.2542 - accuracy: 0.9313 - val_loss: 0.2679 - val_accuracy: 0.9284\n",
      "Epoch 19/20\n",
      "469/469 [==============================] - 0s 1ms/step - loss: 0.2501 - accuracy: 0.9325 - val_loss: 0.2679 - val_accuracy: 0.9281\n",
      "Epoch 20/20\n",
      "469/469 [==============================] - 1s 1ms/step - loss: 0.2543 - accuracy: 0.9324 - val_loss: 0.2706 - val_accuracy: 0.9279\n"
     ]
    }
   ],
   "source": [
    "epochs = 20\n",
    "batch_size = 128\n",
    "history = model.fit(x_train, y_train, batch_size=batch_size, epochs=epochs, verbose=1, validation_data=(x_test, y_test))"
   ]
  },
  {
   "cell_type": "code",
   "execution_count": null,
   "metadata": {},
   "outputs": [],
   "source": []
  }
 ],
 "metadata": {
  "kernelspec": {
   "display_name": "Python 3",
   "language": "python",
   "name": "python3"
  },
  "language_info": {
   "codemirror_mode": {
    "name": "ipython",
    "version": 3
   },
   "file_extension": ".py",
   "mimetype": "text/x-python",
   "name": "python",
   "nbconvert_exporter": "python",
   "pygments_lexer": "ipython3",
   "version": "3.8.5"
  }
 },
 "nbformat": 4,
 "nbformat_minor": 4
}
