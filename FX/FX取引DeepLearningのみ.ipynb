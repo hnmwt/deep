{
 "cells": [
  {
   "cell_type": "code",
   "execution_count": 1,
   "metadata": {},
   "outputs": [],
   "source": [
    "import random\n",
    "import pandas as pd\n",
    "import numpy as np\n",
    "import tensorflow as tf\n",
    "from tensorflow import keras\n",
    "import time\n",
    "import matplotlib.pyplot as plt\n",
    "\n",
    "X_column = [ '日付(hour)','日付(minute)', 'ドル円', 'ポンド円', 'オシレーター買いドル円', 'オシレーター中立ドル円', 'オシレーター売りドル円',\n",
    "       '移動平均買いドル円', '移動平均中立ドル円', '移動平均売りドル円', 'オシレーター買いポンド円', 'オシレーター中立ポンド円',\n",
    "       'オシレーター売りポンド円', '移動平均買いポンド円', '移動平均中立ポンド円', '移動平均売りポンド円', 'S&P500指数',\n",
    "       '日経平均株価', 'UK100INDEX','恐怖指数']\n",
    "\n",
    "# csvデータ整形\n",
    "def data_shape():\n",
    "    #------------csvからゴミデータを削除---------------------------\n",
    "    df= pd.read_csv(\"為替情報.csv\",encoding='shift_jis',index_col=0)\n",
    "    #条件にマッチしたIndexを取得\n",
    "    drop_index = df.index[df['ドル円(15分後)'] == 0]\n",
    "    #条件にマッチしたIndexを削除\n",
    "    df = df.drop(drop_index)\n",
    "    df = df.dropna()  # NaNを削除\n",
    "    df.to_csv('FX再現用pd自動整形.csv', encoding='shift_jis')\n",
    "    #------------csvからゴミデータを削除---------------------------\n",
    "    df= pd.read_csv(\"FX再現用pd自動整形.csv\",encoding='shift_jis')\n",
    "    print(df)\n",
    "    y_usdjpy_train = df['ドル円(15分後)']  # 目的変数\n",
    "    y_gbpjpy_train = df['ポンド円(15分後)']  # 目的変数\n",
    "    df['日付'] = pd.to_datetime(df['日付'])  # 日付カラムを日付型に変換\n",
    "    df['日付(hour)'] = df['日付'].dt.hour  # hourをデータに追加\n",
    "    df['日付(minute)'] = df['日付'].dt.minute  # minuteをデータに追加\n",
    "    X = df[X_column]  # 特徴量\n",
    "    print(df.dtypes)\n",
    "    return df, X, y_usdjpy_train, y_gbpjpy_train"
   ]
  },
  {
   "cell_type": "code",
   "execution_count": 2,
   "metadata": {
    "scrolled": true
   },
   "outputs": [
    {
     "name": "stdout",
     "output_type": "stream",
     "text": [
      "                        日付      ドル円     ポンド円  オシレーター買いドル円  オシレーター中立ドル円  \\\n",
      "0     2020/12/17/ 06:24:11  103.481  139.650          2.0          7.0   \n",
      "1     2020/12/17/ 06:25:45  103.483  139.661          2.0          7.0   \n",
      "2     2020/12/17/ 06:27:20  103.480  139.698          2.0          7.0   \n",
      "3     2020/12/17/ 06:28:54  103.470  139.674          2.0          7.0   \n",
      "4     2020/12/17/ 06:30:29  103.474  139.683          2.0          7.0   \n",
      "...                    ...      ...      ...          ...          ...   \n",
      "7786  2020/12/30/ 00:48:04  103.529  139.808          1.0          8.0   \n",
      "7787  2020/12/30/ 00:49:38  103.550  139.765          1.0          8.0   \n",
      "7788  2020/12/30/ 00:51:13  103.527  139.752          1.0          8.0   \n",
      "7789  2020/12/30/ 00:52:47  103.538  139.737          1.0          8.0   \n",
      "7790  2020/12/30/ 00:54:21  103.555  139.729          1.0          8.0   \n",
      "\n",
      "      オシレーター売りドル円  移動平均買いドル円  移動平均中立ドル円  移動平均売りドル円  オシレーター買いポンド円  ...  \\\n",
      "0             2.0        0.0        1.0       15.0           0.0  ...   \n",
      "1             2.0        0.0        1.0       15.0           0.0  ...   \n",
      "2             2.0        0.0        1.0       15.0           1.0  ...   \n",
      "3             2.0        0.0        1.0       15.0           1.0  ...   \n",
      "4             2.0        0.0        1.0       15.0           2.0  ...   \n",
      "...           ...        ...        ...        ...           ...  ...   \n",
      "7786          2.0        1.0        1.0       14.0           0.0  ...   \n",
      "7787          2.0        1.0        1.0       14.0           0.0  ...   \n",
      "7788          2.0        1.0        1.0       14.0           0.0  ...   \n",
      "7789          2.0        1.0        1.0       14.0           0.0  ...   \n",
      "7790          2.0        1.0        1.0       14.0           0.0  ...   \n",
      "\n",
      "      S&P500指数  S&P500指数変化率    日経平均株価  日経平均株価変化率  UK100INDEX  UK100INDEX変化率  \\\n",
      "0      3701.16       0.0000  26757.33        0.0      6570.9         0.0000   \n",
      "1      3701.18       0.0005  26757.33        0.0      6570.9         0.0000   \n",
      "2      3701.18       0.0000  26757.33        0.0      6570.9         0.0000   \n",
      "3      3701.18       0.0000  26757.33        0.0      6570.9         0.0000   \n",
      "4      3701.18       0.0000  26757.33        0.0      6570.9         0.0000   \n",
      "...        ...          ...       ...        ...         ...            ...   \n",
      "7786   3741.23       0.0000  27568.08        0.0      6627.8         0.0000   \n",
      "7787   3740.89      -0.0091  27568.08        0.0      6625.4        -0.0362   \n",
      "7788   3740.89       0.0000  27568.08        0.0      6625.4         0.0000   \n",
      "7789   3739.60      -0.0345  27568.08        0.0      6625.1        -0.0045   \n",
      "7790   3739.60       0.0000  27568.08        0.0      6625.1         0.0000   \n",
      "\n",
      "       恐怖指数  恐怖指数変化率  ドル円(15分後)  ポンド円(15分後)  \n",
      "0     22.54   0.0000    103.492     139.590  \n",
      "1     22.55   0.0444    103.497     139.580  \n",
      "2     22.55   0.0000    103.502     139.590  \n",
      "3     22.53  -0.0887    103.482     139.607  \n",
      "4     22.53   0.0000    103.497     139.622  \n",
      "...     ...      ...        ...         ...  \n",
      "7786  22.13   0.0000    103.548     139.787  \n",
      "7787  22.27   0.6326    103.540     139.800  \n",
      "7788  22.27   0.0000    103.529     139.800  \n",
      "7789  22.29   0.0898    103.544     139.879  \n",
      "7790  22.29   0.0000    103.530     139.867  \n",
      "\n",
      "[7791 rows x 25 columns]\n",
      "日付               datetime64[ns]\n",
      "ドル円                     float64\n",
      "ポンド円                    float64\n",
      "オシレーター買いドル円             float64\n",
      "オシレーター中立ドル円             float64\n",
      "オシレーター売りドル円             float64\n",
      "移動平均買いドル円               float64\n",
      "移動平均中立ドル円               float64\n",
      "移動平均売りドル円               float64\n",
      "オシレーター買いポンド円            float64\n",
      "オシレーター中立ポンド円            float64\n",
      "オシレーター売りポンド円            float64\n",
      "移動平均買いポンド円              float64\n",
      "移動平均中立ポンド円              float64\n",
      "移動平均売りポンド円              float64\n",
      "S&P500指数                float64\n",
      "S&P500指数変化率             float64\n",
      "日経平均株価                  float64\n",
      "日経平均株価変化率               float64\n",
      "UK100INDEX              float64\n",
      "UK100INDEX変化率           float64\n",
      "恐怖指数                    float64\n",
      "恐怖指数変化率                 float64\n",
      "ドル円(15分後)               float64\n",
      "ポンド円(15分後)              float64\n",
      "日付(hour)                  int64\n",
      "日付(minute)                int64\n",
      "dtype: object\n",
      "日付               datetime64[ns]\n",
      "ドル円                     float64\n",
      "ポンド円                    float64\n",
      "オシレーター買いドル円             float64\n",
      "オシレーター中立ドル円             float64\n",
      "オシレーター売りドル円             float64\n",
      "移動平均買いドル円               float64\n",
      "移動平均中立ドル円               float64\n",
      "移動平均売りドル円               float64\n",
      "オシレーター買いポンド円            float64\n",
      "オシレーター中立ポンド円            float64\n",
      "オシレーター売りポンド円            float64\n",
      "移動平均買いポンド円              float64\n",
      "移動平均中立ポンド円              float64\n",
      "移動平均売りポンド円              float64\n",
      "S&P500指数                float64\n",
      "S&P500指数変化率             float64\n",
      "日経平均株価                  float64\n",
      "日経平均株価変化率               float64\n",
      "UK100INDEX              float64\n",
      "UK100INDEX変化率           float64\n",
      "恐怖指数                    float64\n",
      "恐怖指数変化率                 float64\n",
      "ドル円(15分後)               float64\n",
      "ポンド円(15分後)              float64\n",
      "日付(hour)                  int64\n",
      "日付(minute)                int64\n",
      "dtype: object\n"
     ]
    }
   ],
   "source": [
    "df, X, y_usdjpy_train, y_gbpjpy_train = data_shape()  # データ整形\n",
    "X_train = X  # トレーニングデータの作成\n",
    "print(df.dtypes)\n",
    "\n",
    "\n"
   ]
  },
  {
   "cell_type": "code",
   "execution_count": 6,
   "metadata": {
    "scrolled": true
   },
   "outputs": [],
   "source": [
    "def model_create():\n",
    "    # ニューラルネットワーク作成\n",
    "    n_inputs = len(X_column)  # 入力数\n",
    "    print('入力数', n_inputs)\n",
    "    model = keras.models.Sequential([\n",
    "        keras.layers.Dense(12, activation='relu', input_shape=[n_inputs]),  # n_inputsを入力して隠れユニットを出す\n",
    "        keras.layers.Dense(6, activation='relu'),\n",
    "        keras.layers.Dense(1, activation='linear')\n",
    "    ])\n",
    "    optimizer = keras.optimizers.Adam(lr=0.1)  # オプティマイザ\n",
    "    loss_fn = keras.losses.mse  # 損失関数\n",
    "    model.compile(loss=loss_fn, optimizer=optimizer, metrics=['mae'])  # コンパイル\n",
    "    model.summary()\n",
    "    return model"
   ]
  },
  {
   "cell_type": "code",
   "execution_count": 7,
   "metadata": {
    "scrolled": true
   },
   "outputs": [
    {
     "name": "stdout",
     "output_type": "stream",
     "text": [
      "入力数 20\n",
      "Model: \"sequential\"\n",
      "_________________________________________________________________\n",
      "Layer (type)                 Output Shape              Param #   \n",
      "=================================================================\n",
      "dense (Dense)                (None, 12)                252       \n",
      "_________________________________________________________________\n",
      "dense_1 (Dense)              (None, 6)                 78        \n",
      "_________________________________________________________________\n",
      "dense_2 (Dense)              (None, 1)                 7         \n",
      "=================================================================\n",
      "Total params: 337\n",
      "Trainable params: 337\n",
      "Non-trainable params: 0\n",
      "_________________________________________________________________\n",
      "入力数 20\n",
      "Model: \"sequential_1\"\n",
      "_________________________________________________________________\n",
      "Layer (type)                 Output Shape              Param #   \n",
      "=================================================================\n",
      "dense_3 (Dense)              (None, 12)                252       \n",
      "_________________________________________________________________\n",
      "dense_4 (Dense)              (None, 6)                 78        \n",
      "_________________________________________________________________\n",
      "dense_5 (Dense)              (None, 1)                 7         \n",
      "=================================================================\n",
      "Total params: 337\n",
      "Trainable params: 337\n",
      "Non-trainable params: 0\n",
      "_________________________________________________________________\n"
     ]
    }
   ],
   "source": [
    "model_usdjpy = model_create()\n",
    "model_gbpjpy = model_create()"
   ]
  },
  {
   "cell_type": "code",
   "execution_count": 91,
   "metadata": {},
   "outputs": [
    {
     "name": "stdout",
     "output_type": "stream",
     "text": [
      "X_train： (7791, 20)\n",
      "y_usdjpy_train： (7791,)\n",
      "y_gbpjpy_train： (7791,)\n"
     ]
    }
   ],
   "source": [
    "print('X_train：',X_train.shape)\n",
    "print('y_usdjpy_train：',y_usdjpy_train.shape)\n",
    "print('y_gbpjpy_train：',y_gbpjpy_train.shape)"
   ]
  },
  {
   "cell_type": "code",
   "execution_count": 17,
   "metadata": {},
   "outputs": [
    {
     "name": "stdout",
     "output_type": "stream",
     "text": [
      "Epoch 1/30\n",
      "7401/7401 [==============================] - 6s 704us/step - loss: 14286.9491 - mae: 49.2449 - val_loss: 0.0381 - val_mae: 0.1910\n",
      "Epoch 2/30\n",
      "7401/7401 [==============================] - 5s 676us/step - loss: 0.0342 - mae: 0.1466 - val_loss: 0.0208 - val_mae: 0.1386\n",
      "Epoch 3/30\n",
      "7401/7401 [==============================] - 8s 1ms/step - loss: 0.0401 - mae: 0.1589 - val_loss: 0.0043 - val_mae: 0.0595\n",
      "Epoch 4/30\n",
      "7401/7401 [==============================] - 7s 1ms/step - loss: 0.0402 - mae: 0.1589 - val_loss: 0.0309 - val_mae: 0.1712\n",
      "Epoch 5/30\n",
      "7401/7401 [==============================] - 7s 993us/step - loss: 0.0416 - mae: 0.1624 - val_loss: 0.0295 - val_mae: 0.1670\n",
      "Epoch 6/30\n",
      "7401/7401 [==============================] - 7s 976us/step - loss: 0.0405 - mae: 0.1593 - val_loss: 0.0070 - val_mae: 0.0736\n",
      "Epoch 7/30\n",
      "7401/7401 [==============================] - 7s 1ms/step - loss: 0.0410 - mae: 0.1596 - val_loss: 0.0592 - val_mae: 0.2399\n",
      "Epoch 8/30\n",
      "7401/7401 [==============================] - 7s 986us/step - loss: 0.0424 - mae: 0.1620 - val_loss: 0.0585 - val_mae: 0.2386\n",
      "Epoch 9/30\n",
      "7401/7401 [==============================] - 7s 981us/step - loss: 0.0408 - mae: 0.1597 - val_loss: 0.0072 - val_mae: 0.0785\n",
      "Epoch 10/30\n",
      "7401/7401 [==============================] - 7s 999us/step - loss: 0.0421 - mae: 0.1620 - val_loss: 0.1342 - val_mae: 0.3642\n",
      "Epoch 11/30\n",
      "7401/7401 [==============================] - 7s 1ms/step - loss: 0.0395 - mae: 0.1569 - val_loss: 0.0217 - val_mae: 0.1416\n",
      "Epoch 12/30\n",
      "7401/7401 [==============================] - 8s 1ms/step - loss: 0.0417 - mae: 0.1612 - val_loss: 0.0265 - val_mae: 0.1577\n",
      "Epoch 13/30\n",
      "7401/7401 [==============================] - 7s 998us/step - loss: 0.0406 - mae: 0.1589 - val_loss: 0.0386 - val_mae: 0.1924\n",
      "Epoch 14/30\n",
      "7401/7401 [==============================] - 8s 1ms/step - loss: 0.0415 - mae: 0.1617 - val_loss: 0.0047 - val_mae: 0.0621\n",
      "Epoch 15/30\n",
      "7401/7401 [==============================] - 8s 1ms/step - loss: 0.0404 - mae: 0.1597 - val_loss: 0.0674 - val_mae: 0.2564\n",
      "Epoch 16/30\n",
      "7401/7401 [==============================] - 8s 1ms/step - loss: 0.0399 - mae: 0.1586 - val_loss: 0.0534 - val_mae: 0.2276\n",
      "Epoch 17/30\n",
      "7401/7401 [==============================] - 8s 1ms/step - loss: 0.0408 - mae: 0.1592 - val_loss: 0.0126 - val_mae: 0.1056\n",
      "Epoch 18/30\n",
      "7401/7401 [==============================] - 8s 1ms/step - loss: 0.0418 - mae: 0.1621 - val_loss: 0.0700 - val_mae: 0.2616\n",
      "Epoch 19/30\n",
      "7401/7401 [==============================] - 8s 1ms/step - loss: 0.0422 - mae: 0.1631 - val_loss: 0.0260 - val_mae: 0.1562\n",
      "Epoch 20/30\n",
      "7401/7401 [==============================] - 8s 1ms/step - loss: 0.0422 - mae: 0.1626 - val_loss: 0.0023 - val_mae: 0.0399\n",
      "Epoch 21/30\n",
      "7401/7401 [==============================] - 8s 1ms/step - loss: 0.0417 - mae: 0.1610 - val_loss: 0.0394 - val_mae: 0.1944\n",
      "Epoch 22/30\n",
      "7401/7401 [==============================] - 9s 1ms/step - loss: 0.0400 - mae: 0.1577 - val_loss: 0.0582 - val_mae: 0.2378\n",
      "Epoch 23/30\n",
      "7401/7401 [==============================] - 9s 1ms/step - loss: 0.0418 - mae: 0.1614 - val_loss: 0.0094 - val_mae: 0.0906\n",
      "Epoch 24/30\n",
      "7401/7401 [==============================] - 9s 1ms/step - loss: 0.0414 - mae: 0.1613 - val_loss: 0.0115 - val_mae: 0.1004\n",
      "Epoch 25/30\n",
      "7401/7401 [==============================] - 9s 1ms/step - loss: 0.0396 - mae: 0.1574 - val_loss: 0.0113 - val_mae: 0.0998\n",
      "Epoch 26/30\n",
      "7401/7401 [==============================] - 9s 1ms/step - loss: 0.0404 - mae: 0.1585 - val_loss: 0.0151 - val_mae: 0.1166\n",
      "Epoch 27/30\n",
      "7401/7401 [==============================] - 9s 1ms/step - loss: 0.0396 - mae: 0.1565 - val_loss: 0.0621 - val_mae: 0.2459\n",
      "Epoch 28/30\n",
      "7401/7401 [==============================] - 9s 1ms/step - loss: 0.0409 - mae: 0.1592 - val_loss: 0.0158 - val_mae: 0.1192\n",
      "Epoch 29/30\n",
      "7401/7401 [==============================] - 9s 1ms/step - loss: 0.0398 - mae: 0.1571 - val_loss: 0.0125 - val_mae: 0.1052\n",
      "Epoch 30/30\n",
      "7401/7401 [==============================] - 9s 1ms/step - loss: 0.0406 - mae: 0.1598 - val_loss: 0.0527 - val_mae: 0.2260\n"
     ]
    }
   ],
   "source": [
    "# 予測 USDJPY\n",
    "history_USDJPY = model_usdjpy.fit(X_train, y_usdjpy_train, batch_size=1, epochs=30,validation_split=0.05)"
   ]
  },
  {
   "cell_type": "code",
   "execution_count": 18,
   "metadata": {},
   "outputs": [
    {
     "name": "stdout",
     "output_type": "stream",
     "text": [
      "Epoch 1/30\n",
      "7401/7401 [==============================] - 9s 1ms/step - loss: 132940.8962 - mae: 36.8525 - val_loss: 13.3967 - val_mae: 3.6394\n",
      "Epoch 2/30\n",
      "7401/7401 [==============================] - 9s 1ms/step - loss: 231.7174 - mae: 6.7945 - val_loss: 0.1286 - val_mae: 0.3418\n",
      "Epoch 3/30\n",
      "7401/7401 [==============================] - 8s 1ms/step - loss: 0.7211 - mae: 0.7135 - val_loss: 0.3688 - val_mae: 0.5976\n",
      "Epoch 4/30\n",
      "7401/7401 [==============================] - 8s 1ms/step - loss: 0.7482 - mae: 0.7210 - val_loss: 0.1748 - val_mae: 0.4039\n",
      "Epoch 5/30\n",
      "7401/7401 [==============================] - 9s 1ms/step - loss: 0.7492 - mae: 0.7157 - val_loss: 0.1776 - val_mae: 0.4073\n",
      "Epoch 6/30\n",
      "7401/7401 [==============================] - 9s 1ms/step - loss: 0.7810 - mae: 0.7412 - val_loss: 0.1855 - val_mae: 0.4168\n",
      "Epoch 7/30\n",
      "7401/7401 [==============================] - 8s 1ms/step - loss: 0.7756 - mae: 0.7325 - val_loss: 0.2797 - val_mae: 0.5176\n",
      "Epoch 8/30\n",
      "7401/7401 [==============================] - 8s 1ms/step - loss: 0.7576 - mae: 0.7277 - val_loss: 0.0656 - val_mae: 0.2322\n",
      "Epoch 9/30\n",
      "7401/7401 [==============================] - 8s 1ms/step - loss: 0.7690 - mae: 0.7322 - val_loss: 0.2766 - val_mae: 0.5146\n",
      "Epoch 10/30\n",
      "7401/7401 [==============================] - 8s 1ms/step - loss: 0.7403 - mae: 0.7145 - val_loss: 0.2141 - val_mae: 0.4499\n",
      "Epoch 11/30\n",
      "7401/7401 [==============================] - 8s 1ms/step - loss: 0.7530 - mae: 0.7241 - val_loss: 0.2001 - val_mae: 0.4340\n",
      "Epoch 12/30\n",
      "7401/7401 [==============================] - 8s 1ms/step - loss: 0.7697 - mae: 0.7326 - val_loss: 0.1194 - val_mae: 0.3282\n",
      "Epoch 13/30\n",
      "7401/7401 [==============================] - 8s 1ms/step - loss: 0.7662 - mae: 0.7243 - val_loss: 0.0203 - val_mae: 0.1142\n",
      "Epoch 14/30\n",
      "7401/7401 [==============================] - 9s 1ms/step - loss: 0.7556 - mae: 0.7234 - val_loss: 0.1966 - val_mae: 0.4299\n",
      "Epoch 15/30\n",
      "7401/7401 [==============================] - 8s 1ms/step - loss: 0.7462 - mae: 0.7144 - val_loss: 0.3792 - val_mae: 0.6062\n",
      "Epoch 16/30\n",
      "7401/7401 [==============================] - 8s 1ms/step - loss: 0.7624 - mae: 0.7261 - val_loss: 0.2057 - val_mae: 0.4405\n",
      "Epoch 17/30\n",
      "7401/7401 [==============================] - 8s 1ms/step - loss: 0.7763 - mae: 0.7349 - val_loss: 0.0764 - val_mae: 0.2543\n",
      "Epoch 18/30\n",
      "7401/7401 [==============================] - 8s 1ms/step - loss: 0.7749 - mae: 0.7344 - val_loss: 0.0808 - val_mae: 0.2627\n",
      "Epoch 19/30\n",
      "7401/7401 [==============================] - 8s 1ms/step - loss: 0.7630 - mae: 0.7294 - val_loss: 0.1814 - val_mae: 0.4119\n",
      "Epoch 20/30\n",
      "7401/7401 [==============================] - 9s 1ms/step - loss: 0.7740 - mae: 0.7287 - val_loss: 0.4468 - val_mae: 0.6596\n",
      "Epoch 21/30\n",
      "7401/7401 [==============================] - 9s 1ms/step - loss: 0.7535 - mae: 0.7227 - val_loss: 0.0444 - val_mae: 0.1826\n",
      "Epoch 22/30\n",
      "7401/7401 [==============================] - 9s 1ms/step - loss: 0.7414 - mae: 0.7129 - val_loss: 0.1435 - val_mae: 0.3630\n",
      "Epoch 23/30\n",
      "7401/7401 [==============================] - 8s 1ms/step - loss: 0.7672 - mae: 0.7282 - val_loss: 0.0482 - val_mae: 0.1922\n",
      "Epoch 24/30\n",
      "7401/7401 [==============================] - 9s 1ms/step - loss: 0.7487 - mae: 0.7171 - val_loss: 0.0349 - val_mae: 0.1568\n",
      "Epoch 25/30\n",
      "7401/7401 [==============================] - 9s 1ms/step - loss: 0.7630 - mae: 0.7286 - val_loss: 0.4165 - val_mae: 0.6362\n",
      "Epoch 26/30\n",
      "7401/7401 [==============================] - 9s 1ms/step - loss: 0.7528 - mae: 0.7195 - val_loss: 0.0180 - val_mae: 0.1072\n",
      "Epoch 27/30\n",
      "7401/7401 [==============================] - 9s 1ms/step - loss: 0.7567 - mae: 0.7203 - val_loss: 0.2308 - val_mae: 0.4681\n",
      "Epoch 28/30\n",
      "7401/7401 [==============================] - 9s 1ms/step - loss: 0.7377 - mae: 0.7135 - val_loss: 0.4413 - val_mae: 0.6554\n",
      "Epoch 29/30\n",
      "7401/7401 [==============================] - 8s 1ms/step - loss: 0.7689 - mae: 0.7302 - val_loss: 0.0332 - val_mae: 0.1519\n",
      "Epoch 30/30\n",
      "7401/7401 [==============================] - 9s 1ms/step - loss: 0.7823 - mae: 0.7372 - val_loss: 0.0148 - val_mae: 0.0980\n"
     ]
    }
   ],
   "source": [
    "# 予測 GBPJPY\n",
    "history_GBPJPY = model_gbpjpy.fit(X_train, y_gbpjpy_train, batch_size=1, epochs=30,validation_split=0.05)"
   ]
  },
  {
   "cell_type": "code",
   "execution_count": null,
   "metadata": {},
   "outputs": [],
   "source": [
    "pd.DataFrame(history.history).plot(figsize=(8, 5))\n",
    "plt.grid(True)\n",
    "plt.gca().set_ylim(0, 1)\n",
    "plt.show()"
   ]
  },
  {
   "cell_type": "code",
   "execution_count": null,
   "metadata": {},
   "outputs": [],
   "source": [
    "X_new = X_train[:1000]\n",
    "y_new_USDJPY = y_usdjpy_train[:100]\n",
    "y_new_GBPJPY = y_gbpjpy_train[:100]"
   ]
  },
  {
   "cell_type": "code",
   "execution_count": null,
   "metadata": {},
   "outputs": [],
   "source": [
    "y_pred = model.predict(X_new)"
   ]
  },
  {
   "cell_type": "code",
   "execution_count": null,
   "metadata": {},
   "outputs": [],
   "source": [
    "print(y_pred)\n",
    "print( y_new)\n"
   ]
  },
  {
   "cell_type": "code",
   "execution_count": null,
   "metadata": {},
   "outputs": [],
   "source": [
    "# LSTMで予測"
   ]
  },
  {
   "cell_type": "code",
   "execution_count": 83,
   "metadata": {},
   "outputs": [
    {
     "name": "stdout",
     "output_type": "stream",
     "text": [
      "18\n",
      "LSTM_X_sample: (7791, 18)\n",
      "LSTM_X_train (7791, 18, 1)\n",
      "LSTM_t_train: (7791, 1)\n"
     ]
    }
   ],
   "source": [
    "# LSTM用データの作成\n",
    "#df['日付'] = df['日付'].astype('float32')\n",
    "LSTM_column = [ 'ドル円', 'ポンド円', 'オシレーター買いドル円', 'オシレーター中立ドル円', 'オシレーター売りドル円',\n",
    "       '移動平均買いドル円', '移動平均中立ドル円', '移動平均売りドル円', 'オシレーター買いポンド円', 'オシレーター中立ポンド円',\n",
    "       'オシレーター売りポンド円', '移動平均買いポンド円', '移動平均中立ポンド円', '移動平均売りポンド円', 'S&P500指数',\n",
    "       '日経平均株価', 'UK100INDEX','恐怖指数']\n",
    "\n",
    "LSTM_X_sample = df[LSTM_column]\n",
    "row_len = len(LSTM_X_sample)  # 行数をカウント\n",
    "column_len = len(LSTM_column)  # 列数をカウント\n",
    "print(column_len)\n",
    "\n",
    "print('LSTM_X_sample:',LSTM_X_sample.shape)\n",
    "\n",
    "LSTM_X_train = np.array(LSTM_X_sample).reshape(row_len, column_len, -1)\n",
    "print('LSTM_X_train',LSTM_X_train.shape)\n",
    "\n",
    "LSTM_t_train = df['ドル円(15分後)']\n",
    "LSTM_t_train = np.array(LSTM_t_train).reshape(row_len,1)\n",
    "print('LSTM_t_train:',LSTM_t_train.shape)\n",
    "\n",
    "#pd_LSTM_t_train = pd.DataFrame(LSTM_t_train)\n",
    "#pd_LSTM_t_train.to_csv('LSTM_t_train.csv', encoding='shift_jis')\n",
    "\n",
    "#pd_LSTM_X_train = pd.DataFrame(LSTM_X_train)\n",
    "#pd_LSTM_X_train.to_csv('LSTM_X_train.csv', encoding='shift_jis')\n"
   ]
  },
  {
   "cell_type": "code",
   "execution_count": 84,
   "metadata": {},
   "outputs": [],
   "source": [
    "def LSTM_model_create():\n",
    "    n_inputs = len(X_column)  # 入力数\n",
    "    model = keras.models.Sequential()\n",
    "    model.add(keras.layers.LSTM(20, activation='tanh',\n",
    "                  recurrent_activation='sigmoid',\n",
    "                  kernel_initializer='glorot_normal',\n",
    "                   recurrent_initializer='orthogonal',\n",
    "                               batch_input_shape=(None, n_inputs, 1)))\n",
    "    \n",
    "    model.add(keras.layers.Dense(1, activation='linear'))\n",
    "        \n",
    "    optimizer = keras.optimizers.Adam(lr=0.1)  # オプティマイザ\n",
    "    loss_fn = keras.losses.mse  # 損失関数\n",
    "    model.compile(loss=loss_fn, optimizer=optimizer, metrics=['mae'])  # コンパイル\n",
    "    #model.summary()\n",
    "    return model"
   ]
  },
  {
   "cell_type": "code",
   "execution_count": 85,
   "metadata": {},
   "outputs": [],
   "source": [
    "model_LSTM_usdjpy = LSTM_model_create()"
   ]
  },
  {
   "cell_type": "code",
   "execution_count": 86,
   "metadata": {},
   "outputs": [
    {
     "name": "stdout",
     "output_type": "stream",
     "text": [
      "Epoch 1/30\n",
      "WARNING:tensorflow:Model was constructed with shape (None, 20, 1) for input KerasTensor(type_spec=TensorSpec(shape=(None, 20, 1), dtype=tf.float32, name='lstm_6_input'), name='lstm_6_input', description=\"created by layer 'lstm_6_input'\"), but it was called on an input with incompatible shape (1, 18, 1).\n",
      "WARNING:tensorflow:Model was constructed with shape (None, 20, 1) for input KerasTensor(type_spec=TensorSpec(shape=(None, 20, 1), dtype=tf.float32, name='lstm_6_input'), name='lstm_6_input', description=\"created by layer 'lstm_6_input'\"), but it was called on an input with incompatible shape (1, 18, 1).\n",
      "7791/7791 [==============================] - 27s 3ms/step - loss: 248.5542 - mae: 3.8931\n",
      "Epoch 2/30\n",
      "5960/7791 [=====================>........] - ETA: 5s - loss: 0.0995 - mae: 0.2513"
     ]
    },
    {
     "ename": "KeyboardInterrupt",
     "evalue": "",
     "output_type": "error",
     "traceback": [
      "\u001b[1;31m---------------------------------------------------------------------------\u001b[0m",
      "\u001b[1;31mKeyboardInterrupt\u001b[0m                         Traceback (most recent call last)",
      "\u001b[1;32m<ipython-input-86-165684ad2356>\u001b[0m in \u001b[0;36m<module>\u001b[1;34m\u001b[0m\n\u001b[0;32m      1\u001b[0m \u001b[1;31m# 予測 LSTM_USDJPY\u001b[0m\u001b[1;33m\u001b[0m\u001b[1;33m\u001b[0m\u001b[1;33m\u001b[0m\u001b[0m\n\u001b[1;32m----> 2\u001b[1;33m \u001b[0mhistory_LSTM_USDJPY\u001b[0m \u001b[1;33m=\u001b[0m \u001b[0mmodel_LSTM_usdjpy\u001b[0m\u001b[1;33m.\u001b[0m\u001b[0mfit\u001b[0m\u001b[1;33m(\u001b[0m\u001b[0mLSTM_X_train\u001b[0m\u001b[1;33m,\u001b[0m \u001b[0mLSTM_t_train\u001b[0m\u001b[1;33m,\u001b[0m \u001b[0mbatch_size\u001b[0m\u001b[1;33m=\u001b[0m\u001b[1;36m1\u001b[0m\u001b[1;33m,\u001b[0m \u001b[0mepochs\u001b[0m\u001b[1;33m=\u001b[0m\u001b[1;36m30\u001b[0m\u001b[1;33m)\u001b[0m\u001b[1;33m\u001b[0m\u001b[1;33m\u001b[0m\u001b[0m\n\u001b[0m",
      "\u001b[1;32mc:\\users\\hnmwt\\appdata\\local\\programs\\python\\python38\\lib\\site-packages\\tensorflow\\python\\keras\\engine\\training.py\u001b[0m in \u001b[0;36mfit\u001b[1;34m(self, x, y, batch_size, epochs, verbose, callbacks, validation_split, validation_data, shuffle, class_weight, sample_weight, initial_epoch, steps_per_epoch, validation_steps, validation_batch_size, validation_freq, max_queue_size, workers, use_multiprocessing)\u001b[0m\n\u001b[0;32m   1098\u001b[0m                 _r=1):\n\u001b[0;32m   1099\u001b[0m               \u001b[0mcallbacks\u001b[0m\u001b[1;33m.\u001b[0m\u001b[0mon_train_batch_begin\u001b[0m\u001b[1;33m(\u001b[0m\u001b[0mstep\u001b[0m\u001b[1;33m)\u001b[0m\u001b[1;33m\u001b[0m\u001b[1;33m\u001b[0m\u001b[0m\n\u001b[1;32m-> 1100\u001b[1;33m               \u001b[0mtmp_logs\u001b[0m \u001b[1;33m=\u001b[0m \u001b[0mself\u001b[0m\u001b[1;33m.\u001b[0m\u001b[0mtrain_function\u001b[0m\u001b[1;33m(\u001b[0m\u001b[0miterator\u001b[0m\u001b[1;33m)\u001b[0m\u001b[1;33m\u001b[0m\u001b[1;33m\u001b[0m\u001b[0m\n\u001b[0m\u001b[0;32m   1101\u001b[0m               \u001b[1;32mif\u001b[0m \u001b[0mdata_handler\u001b[0m\u001b[1;33m.\u001b[0m\u001b[0mshould_sync\u001b[0m\u001b[1;33m:\u001b[0m\u001b[1;33m\u001b[0m\u001b[1;33m\u001b[0m\u001b[0m\n\u001b[0;32m   1102\u001b[0m                 \u001b[0mcontext\u001b[0m\u001b[1;33m.\u001b[0m\u001b[0masync_wait\u001b[0m\u001b[1;33m(\u001b[0m\u001b[1;33m)\u001b[0m\u001b[1;33m\u001b[0m\u001b[1;33m\u001b[0m\u001b[0m\n",
      "\u001b[1;32mc:\\users\\hnmwt\\appdata\\local\\programs\\python\\python38\\lib\\site-packages\\tensorflow\\python\\eager\\def_function.py\u001b[0m in \u001b[0;36m__call__\u001b[1;34m(self, *args, **kwds)\u001b[0m\n\u001b[0;32m    826\u001b[0m     \u001b[0mtracing_count\u001b[0m \u001b[1;33m=\u001b[0m \u001b[0mself\u001b[0m\u001b[1;33m.\u001b[0m\u001b[0mexperimental_get_tracing_count\u001b[0m\u001b[1;33m(\u001b[0m\u001b[1;33m)\u001b[0m\u001b[1;33m\u001b[0m\u001b[1;33m\u001b[0m\u001b[0m\n\u001b[0;32m    827\u001b[0m     \u001b[1;32mwith\u001b[0m \u001b[0mtrace\u001b[0m\u001b[1;33m.\u001b[0m\u001b[0mTrace\u001b[0m\u001b[1;33m(\u001b[0m\u001b[0mself\u001b[0m\u001b[1;33m.\u001b[0m\u001b[0m_name\u001b[0m\u001b[1;33m)\u001b[0m \u001b[1;32mas\u001b[0m \u001b[0mtm\u001b[0m\u001b[1;33m:\u001b[0m\u001b[1;33m\u001b[0m\u001b[1;33m\u001b[0m\u001b[0m\n\u001b[1;32m--> 828\u001b[1;33m       \u001b[0mresult\u001b[0m \u001b[1;33m=\u001b[0m \u001b[0mself\u001b[0m\u001b[1;33m.\u001b[0m\u001b[0m_call\u001b[0m\u001b[1;33m(\u001b[0m\u001b[1;33m*\u001b[0m\u001b[0margs\u001b[0m\u001b[1;33m,\u001b[0m \u001b[1;33m**\u001b[0m\u001b[0mkwds\u001b[0m\u001b[1;33m)\u001b[0m\u001b[1;33m\u001b[0m\u001b[1;33m\u001b[0m\u001b[0m\n\u001b[0m\u001b[0;32m    829\u001b[0m       \u001b[0mcompiler\u001b[0m \u001b[1;33m=\u001b[0m \u001b[1;34m\"xla\"\u001b[0m \u001b[1;32mif\u001b[0m \u001b[0mself\u001b[0m\u001b[1;33m.\u001b[0m\u001b[0m_experimental_compile\u001b[0m \u001b[1;32melse\u001b[0m \u001b[1;34m\"nonXla\"\u001b[0m\u001b[1;33m\u001b[0m\u001b[1;33m\u001b[0m\u001b[0m\n\u001b[0;32m    830\u001b[0m       \u001b[0mnew_tracing_count\u001b[0m \u001b[1;33m=\u001b[0m \u001b[0mself\u001b[0m\u001b[1;33m.\u001b[0m\u001b[0mexperimental_get_tracing_count\u001b[0m\u001b[1;33m(\u001b[0m\u001b[1;33m)\u001b[0m\u001b[1;33m\u001b[0m\u001b[1;33m\u001b[0m\u001b[0m\n",
      "\u001b[1;32mc:\\users\\hnmwt\\appdata\\local\\programs\\python\\python38\\lib\\site-packages\\tensorflow\\python\\eager\\def_function.py\u001b[0m in \u001b[0;36m_call\u001b[1;34m(self, *args, **kwds)\u001b[0m\n\u001b[0;32m    853\u001b[0m       \u001b[1;31m# In this case we have created variables on the first call, so we run the\u001b[0m\u001b[1;33m\u001b[0m\u001b[1;33m\u001b[0m\u001b[1;33m\u001b[0m\u001b[0m\n\u001b[0;32m    854\u001b[0m       \u001b[1;31m# defunned version which is guaranteed to never create variables.\u001b[0m\u001b[1;33m\u001b[0m\u001b[1;33m\u001b[0m\u001b[1;33m\u001b[0m\u001b[0m\n\u001b[1;32m--> 855\u001b[1;33m       \u001b[1;32mreturn\u001b[0m \u001b[0mself\u001b[0m\u001b[1;33m.\u001b[0m\u001b[0m_stateless_fn\u001b[0m\u001b[1;33m(\u001b[0m\u001b[1;33m*\u001b[0m\u001b[0margs\u001b[0m\u001b[1;33m,\u001b[0m \u001b[1;33m**\u001b[0m\u001b[0mkwds\u001b[0m\u001b[1;33m)\u001b[0m  \u001b[1;31m# pylint: disable=not-callable\u001b[0m\u001b[1;33m\u001b[0m\u001b[1;33m\u001b[0m\u001b[0m\n\u001b[0m\u001b[0;32m    856\u001b[0m     \u001b[1;32melif\u001b[0m \u001b[0mself\u001b[0m\u001b[1;33m.\u001b[0m\u001b[0m_stateful_fn\u001b[0m \u001b[1;32mis\u001b[0m \u001b[1;32mnot\u001b[0m \u001b[1;32mNone\u001b[0m\u001b[1;33m:\u001b[0m\u001b[1;33m\u001b[0m\u001b[1;33m\u001b[0m\u001b[0m\n\u001b[0;32m    857\u001b[0m       \u001b[1;31m# Release the lock early so that multiple threads can perform the call\u001b[0m\u001b[1;33m\u001b[0m\u001b[1;33m\u001b[0m\u001b[1;33m\u001b[0m\u001b[0m\n",
      "\u001b[1;32mc:\\users\\hnmwt\\appdata\\local\\programs\\python\\python38\\lib\\site-packages\\tensorflow\\python\\eager\\function.py\u001b[0m in \u001b[0;36m__call__\u001b[1;34m(self, *args, **kwargs)\u001b[0m\n\u001b[0;32m   2940\u001b[0m       (graph_function,\n\u001b[0;32m   2941\u001b[0m        filtered_flat_args) = self._maybe_define_function(args, kwargs)\n\u001b[1;32m-> 2942\u001b[1;33m     return graph_function._call_flat(\n\u001b[0m\u001b[0;32m   2943\u001b[0m         filtered_flat_args, captured_inputs=graph_function.captured_inputs)  # pylint: disable=protected-access\n\u001b[0;32m   2944\u001b[0m \u001b[1;33m\u001b[0m\u001b[0m\n",
      "\u001b[1;32mc:\\users\\hnmwt\\appdata\\local\\programs\\python\\python38\\lib\\site-packages\\tensorflow\\python\\eager\\function.py\u001b[0m in \u001b[0;36m_call_flat\u001b[1;34m(self, args, captured_inputs, cancellation_manager)\u001b[0m\n\u001b[0;32m   1916\u001b[0m         and executing_eagerly):\n\u001b[0;32m   1917\u001b[0m       \u001b[1;31m# No tape is watching; skip to running the function.\u001b[0m\u001b[1;33m\u001b[0m\u001b[1;33m\u001b[0m\u001b[1;33m\u001b[0m\u001b[0m\n\u001b[1;32m-> 1918\u001b[1;33m       return self._build_call_outputs(self._inference_function.call(\n\u001b[0m\u001b[0;32m   1919\u001b[0m           ctx, args, cancellation_manager=cancellation_manager))\n\u001b[0;32m   1920\u001b[0m     forward_backward = self._select_forward_and_backward_functions(\n",
      "\u001b[1;32mc:\\users\\hnmwt\\appdata\\local\\programs\\python\\python38\\lib\\site-packages\\tensorflow\\python\\eager\\function.py\u001b[0m in \u001b[0;36mcall\u001b[1;34m(self, ctx, args, cancellation_manager)\u001b[0m\n\u001b[0;32m    553\u001b[0m       \u001b[1;32mwith\u001b[0m \u001b[0m_InterpolateFunctionError\u001b[0m\u001b[1;33m(\u001b[0m\u001b[0mself\u001b[0m\u001b[1;33m)\u001b[0m\u001b[1;33m:\u001b[0m\u001b[1;33m\u001b[0m\u001b[1;33m\u001b[0m\u001b[0m\n\u001b[0;32m    554\u001b[0m         \u001b[1;32mif\u001b[0m \u001b[0mcancellation_manager\u001b[0m \u001b[1;32mis\u001b[0m \u001b[1;32mNone\u001b[0m\u001b[1;33m:\u001b[0m\u001b[1;33m\u001b[0m\u001b[1;33m\u001b[0m\u001b[0m\n\u001b[1;32m--> 555\u001b[1;33m           outputs = execute.execute(\n\u001b[0m\u001b[0;32m    556\u001b[0m               \u001b[0mstr\u001b[0m\u001b[1;33m(\u001b[0m\u001b[0mself\u001b[0m\u001b[1;33m.\u001b[0m\u001b[0msignature\u001b[0m\u001b[1;33m.\u001b[0m\u001b[0mname\u001b[0m\u001b[1;33m)\u001b[0m\u001b[1;33m,\u001b[0m\u001b[1;33m\u001b[0m\u001b[1;33m\u001b[0m\u001b[0m\n\u001b[0;32m    557\u001b[0m               \u001b[0mnum_outputs\u001b[0m\u001b[1;33m=\u001b[0m\u001b[0mself\u001b[0m\u001b[1;33m.\u001b[0m\u001b[0m_num_outputs\u001b[0m\u001b[1;33m,\u001b[0m\u001b[1;33m\u001b[0m\u001b[1;33m\u001b[0m\u001b[0m\n",
      "\u001b[1;32mc:\\users\\hnmwt\\appdata\\local\\programs\\python\\python38\\lib\\site-packages\\tensorflow\\python\\eager\\execute.py\u001b[0m in \u001b[0;36mquick_execute\u001b[1;34m(op_name, num_outputs, inputs, attrs, ctx, name)\u001b[0m\n\u001b[0;32m     57\u001b[0m   \u001b[1;32mtry\u001b[0m\u001b[1;33m:\u001b[0m\u001b[1;33m\u001b[0m\u001b[1;33m\u001b[0m\u001b[0m\n\u001b[0;32m     58\u001b[0m     \u001b[0mctx\u001b[0m\u001b[1;33m.\u001b[0m\u001b[0mensure_initialized\u001b[0m\u001b[1;33m(\u001b[0m\u001b[1;33m)\u001b[0m\u001b[1;33m\u001b[0m\u001b[1;33m\u001b[0m\u001b[0m\n\u001b[1;32m---> 59\u001b[1;33m     tensors = pywrap_tfe.TFE_Py_Execute(ctx._handle, device_name, op_name,\n\u001b[0m\u001b[0;32m     60\u001b[0m                                         inputs, attrs, num_outputs)\n\u001b[0;32m     61\u001b[0m   \u001b[1;32mexcept\u001b[0m \u001b[0mcore\u001b[0m\u001b[1;33m.\u001b[0m\u001b[0m_NotOkStatusException\u001b[0m \u001b[1;32mas\u001b[0m \u001b[0me\u001b[0m\u001b[1;33m:\u001b[0m\u001b[1;33m\u001b[0m\u001b[1;33m\u001b[0m\u001b[0m\n",
      "\u001b[1;31mKeyboardInterrupt\u001b[0m: "
     ]
    }
   ],
   "source": [
    "# 予測 LSTM_USDJPY\n",
    "history_LSTM_USDJPY = model_LSTM_usdjpy.fit(LSTM_X_train, LSTM_t_train, batch_size=1, epochs=30)"
   ]
  },
  {
   "cell_type": "code",
   "execution_count": null,
   "metadata": {},
   "outputs": [],
   "source": []
  }
 ],
 "metadata": {
  "kernelspec": {
   "display_name": "Python 3",
   "language": "python",
   "name": "python3"
  },
  "language_info": {
   "codemirror_mode": {
    "name": "ipython",
    "version": 3
   },
   "file_extension": ".py",
   "mimetype": "text/x-python",
   "name": "python",
   "nbconvert_exporter": "python",
   "pygments_lexer": "ipython3",
   "version": "3.8.5"
  }
 },
 "nbformat": 4,
 "nbformat_minor": 4
}
