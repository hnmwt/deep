{
 "cells": [
  {
   "cell_type": "code",
   "execution_count": null,
   "metadata": {},
   "outputs": [],
   "source": [
    "import random\n",
    "import pandas as pd\n",
    "import numpy as np\n",
    "import tensorflow as tf\n",
    "from tensorflow import keras\n",
    "import time\n",
    "import matplotlib.pyplot as plt\n",
    "\n",
    "X_column = [ 'ドル円', 'ポンド円', 'オシレーター買いドル円', 'オシレーター中立ドル円', 'オシレーター売りドル円',\n",
    "       '移動平均買いドル円', '移動平均中立ドル円', '移動平均売りドル円', 'オシレーター買いポンド円', 'オシレーター中立ポンド円',\n",
    "       'オシレーター売りポンド円', '移動平均買いポンド円', '移動平均中立ポンド円', '移動平均売りポンド円', 'S&P500指数',\n",
    "       '日経平均株価', 'UK100INDEX','恐怖指数', '日付(hour)','日付(minute)']\n",
    "\n",
    "# csvデータ整形\n",
    "def data_shape():\n",
    "    #------------csvからゴミデータを削除---------------------------\n",
    "    df= pd.read_csv(\"為替情報.csv\",encoding='shift_jis',index_col=0)\n",
    "    #条件にマッチしたIndexを取得\n",
    "    drop_index = df.index[df['ドル円(15分後)'] == 0]\n",
    "    #条件にマッチしたIndexを削除\n",
    "    df = df.drop(drop_index)\n",
    "    df = df.dropna()  # NaNを削除\n",
    "    df.to_csv('FX再現用pd自動整形.csv', encoding='shift_jis')\n",
    "    #------------csvからゴミデータを削除---------------------------\n",
    "    df= pd.read_csv(\"FX再現用pd自動整形.csv\",encoding='shift_jis')\n",
    "    print(df)\n",
    "    y_usdjpy_train = df['ドル円(15分後)']  # 目的変数\n",
    "    y_gbpjpy_train = df['ポンド円(15分後)']  # 目的変数\n",
    "    df['日付'] = pd.to_datetime(df['日付'])  # 日付カラムを日付型に変換\n",
    "    df['日付(hour)'] = df['日付'].dt.hour  # hourをデータに追加\n",
    "    df['日付(minute)'] = df['日付'].dt.minute  # minuteをデータに追加\n",
    "    X = df[X_column]  # 特徴量\n",
    "    return df, X, y_usdjpy_train, y_gbpjpy_train"
   ]
  },
  {
   "cell_type": "code",
   "execution_count": null,
   "metadata": {
    "scrolled": true
   },
   "outputs": [],
   "source": [
    "df, X, y_usdjpy_train, y_gbpjpy_train = data_shape()  # データ整形\n",
    "X_train = X  # トレーニングデータの作成\n",
    "print(df.dtypes)\n",
    "\n",
    "\n"
   ]
  },
  {
   "cell_type": "code",
   "execution_count": null,
   "metadata": {
    "scrolled": true
   },
   "outputs": [],
   "source": [
    "def model_create():\n",
    "    # ニューラルネットワーク作成\n",
    "    n_inputs = len(X_column)  # 入力数\n",
    "    print('入力数', n_inputs)\n",
    "    model = keras.models.Sequential([\n",
    "        keras.layers.Dense(12, activation='linear', input_shape=[n_inputs]),  # n_inputsを入力して隠れユニットを5つ出す\n",
    "        keras.layers.Dense(6, activation='linear'),\n",
    "        keras.layers.Dense(1, activation='linear')\n",
    "    ])\n",
    "    optimizer = keras.optimizers.Adam(lr=0.01)  # オプティマイザ\n",
    "    loss_fn = keras.losses.mse  # 損失関数\n",
    "    model.compile(loss=loss_fn, optimizer=optimizer, metrics=['mae'])  # コンパイル\n",
    "    model.summary()\n",
    "    return model"
   ]
  },
  {
   "cell_type": "code",
   "execution_count": null,
   "metadata": {
    "scrolled": true
   },
   "outputs": [],
   "source": [
    "model_usdjpy = model_create()\n",
    "model_gbpjpy = model_create()"
   ]
  },
  {
   "cell_type": "code",
   "execution_count": null,
   "metadata": {},
   "outputs": [],
   "source": [
    "print('X_train：',X_train.shape)\n",
    "print('y_usdjpy_train：',y_usdjpy_train.shape)\n",
    "print('y_gbpjpy_train：',y_gbpjpy_train.shape)\n"
   ]
  },
  {
   "cell_type": "code",
   "execution_count": null,
   "metadata": {},
   "outputs": [],
   "source": [
    "# 予測 USDJPY\n",
    "history_USDJPY = model_usdjpy.fit(X_train, y_usdjpy_train, batch_size=1, epochs=30,validation_split=0.05)"
   ]
  },
  {
   "cell_type": "code",
   "execution_count": null,
   "metadata": {},
   "outputs": [],
   "source": [
    "# 予測 GBPJPY\n",
    "history_GBPJPY = model_gbpjpy.fit(X_train, y_gbpjpy_train, batch_size=1, epochs=30,validation_split=0.05)"
   ]
  },
  {
   "cell_type": "code",
   "execution_count": null,
   "metadata": {},
   "outputs": [],
   "source": [
    "pd.DataFrame(history.history).plot(figsize=(8, 5))\n",
    "plt.grid(True)\n",
    "plt.gca().set_ylim(0, 1)\n",
    "plt.show()"
   ]
  },
  {
   "cell_type": "code",
   "execution_count": null,
   "metadata": {},
   "outputs": [],
   "source": [
    "X_new = X_train[:1000]\n",
    "y_new_USDJPY = y_usdjpy_train[:100]\n",
    "y_new_GBPJPY = y_gbpjpy_train[:100]"
   ]
  },
  {
   "cell_type": "code",
   "execution_count": null,
   "metadata": {},
   "outputs": [],
   "source": [
    "y_pred = model.predict(X_new)"
   ]
  },
  {
   "cell_type": "code",
   "execution_count": null,
   "metadata": {},
   "outputs": [],
   "source": [
    "print(y_pred)\n",
    "print( y_new)\n"
   ]
  },
  {
   "cell_type": "code",
   "execution_count": null,
   "metadata": {},
   "outputs": [],
   "source": []
  }
 ],
 "metadata": {
  "kernelspec": {
   "display_name": "Python 3",
   "language": "python",
   "name": "python3"
  },
  "language_info": {
   "codemirror_mode": {
    "name": "ipython",
    "version": 3
   },
   "file_extension": ".py",
   "mimetype": "text/x-python",
   "name": "python",
   "nbconvert_exporter": "python",
   "pygments_lexer": "ipython3",
   "version": "3.8.5"
  }
 },
 "nbformat": 4,
 "nbformat_minor": 4
}
