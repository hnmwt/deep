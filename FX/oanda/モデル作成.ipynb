{
 "cells": [
  {
   "cell_type": "code",
   "execution_count": 1,
   "metadata": {},
   "outputs": [],
   "source": [
    "import pandas as pd\n",
    "import numpy as np\n",
    "import datetime\n",
    "import tensorflow as tf\n",
    "from tensorflow import keras\n",
    "import time\n",
    "import matplotlib as mpl\n",
    "import matplotlib.pyplot as plt\n",
    "from sklearn import preprocessing\n",
    "import matplotlib as mpl\n",
    "import matplotlib.pyplot as plt\n",
    "\n",
    "#numpy配列を省略しないようにする\n",
    "np.set_printoptions(threshold=np.inf)\n",
    "#pandasを省略しないようにする\n",
    "pd.set_option('display.max_columns', 500) # 列\n",
    "pd.set_option('display.max_rows', 500)  # 行"
   ]
  },
  {
   "cell_type": "code",
   "execution_count": 2,
   "metadata": {
    "scrolled": true
   },
   "outputs": [],
   "source": [
    "# 正規化関数\n",
    "def mmscaler(data):\n",
    "    mm = preprocessing.MinMaxScaler()  # 正規化エンコード、デコード\n",
    "    dat = mm.fit_transform(data)\n",
    "    return dat"
   ]
  },
  {
   "cell_type": "code",
   "execution_count": 3,
   "metadata": {},
   "outputs": [],
   "source": [
    "# トレーニングデータの作成\n",
    "def create_data(read_dir, save_dir):\n",
    "    df = pd.read_csv(read_dir, encoding='shift_jis')\n",
    "    #カラムを削除\n",
    "    df = df.dropna()  # NaNを削除\n",
    "    df.drop(labels='日付(ローソク足)', axis=1, inplace=True) # ろうそく足データの日付\n",
    "    \n",
    "    df['日付'] = pd.to_datetime(df['日付'], format='%Y-%m-%d-%A %H:%M:%S')  # 日付カラムを日付型に変換\n",
    "    df['日付(hour)'] = df['日付'].dt.hour  # hourをデータに追加\n",
    "    df['日付(minute)'] = df['日付'].dt.minute  # minuteをデータに追加\n",
    "    df['日付(weekday)'] = df['日付'].dt.dayofweek  # minuteをデータに追加\n",
    "    # df['日付']カラムが [datetime64[ns]]型になっていて扱いづらいので最後に削除する\n",
    "    #df.drop(labels='日付', axis=1, inplace=True)\n",
    "    \n",
    "    date = df['日付'] # 代入して変数を避難させる\n",
    "    \n",
    "    df = df.loc[:, '2':'日付(weekday)'].astype('float32')  # データ型をfloatに変換して代入\n",
    "    df.insert(0, '日付', date)  # 日付を1列目に代入\n",
    "    #df.to_csv(save_dir , encoding='shift_jis', index=False)\n",
    "    return df"
   ]
  },
  {
   "cell_type": "code",
   "execution_count": 4,
   "metadata": {},
   "outputs": [],
   "source": [
    "# n時間後の時刻とレートを計算\n",
    "def UNIX_RATE_conversion(df, time, name):\n",
    "    # UNIX時間に変更\n",
    "    df['日付UNIX'] = pd.to_datetime(df['日付']).dt.tz_localize('Asia/Tokyo')\n",
    "    df['日付UNIX'] = df['日付UNIX'].astype('int64') // 10**9\n",
    "    \n",
    "    df['日付UNIX' + name] = df['日付UNIX'].shift(time) # 1行上にずらして5分後の値にしている\n",
    "    df['日付UNIX_計算後' + name] = df['日付UNIX' + name] - df['日付UNIX'] # -分後の値か表した変数\n",
    "    df['RATE' + name] = df['bid_close'].shift(time)\n",
    "\n",
    "    return df  # n分後のUNIX時間、レートの計算結果を反映している"
   ]
  },
  {
   "cell_type": "code",
   "execution_count": 5,
   "metadata": {},
   "outputs": [],
   "source": [
    "# 変数宣言\n",
    "read_dir = \"./shape/GBP_JPY_X_train_data.csv\"\n",
    "save_dir =  \"./model/GBPJPY_5M.csv\"\n",
    "mm = preprocessing.MinMaxScaler()  # 正規化エンコード、デコード"
   ]
  },
  {
   "cell_type": "code",
   "execution_count": 6,
   "metadata": {},
   "outputs": [],
   "source": [
    "# トレーニングデータの作成\n",
    "df = create_data(read_dir, save_dir)\n",
    "\n",
    "# 5分後の時刻とレートを計算\n",
    "after_5min = -1 # shift関数のスライド数 (1行上にずらして5分後の値にしている)\n",
    "name = '5min'\n",
    "df = UNIX_RATE_conversion(df, after_5min,name)\n",
    "\n",
    "\n",
    "\n",
    "# 日付チェック\n",
    "df = df[(df['日付UNIX_計算後' + name] < 320) & (270 < df['日付UNIX_計算後' + name])] # 日付の差が270秒から320秒の間のみ抽出\n",
    "\n",
    "df = df[2::4]  # 2行目から4行飛ばしで読み込む(oandaの会員がレギュラーのため)\n",
    "df.to_csv(\"./model/5分後予測のGBPJPYデータ.csv\", encoding='shift_jis', index=False)\n",
    "\n",
    "# 4時間後の時刻とレートを計算\n",
    "after_4h = -47\n",
    "name = '4h'\n",
    "df = UNIX_RATE_conversion(df, after_4h, name)"
   ]
  },
  {
   "cell_type": "code",
   "execution_count": 7,
   "metadata": {},
   "outputs": [],
   "source": [
    "def model_create():\n",
    "    #n_inputs = len(X_train.columns)  # 入力数\n",
    "    model = keras.models.Sequential()\n",
    "   # model.add(keras.layers.Dense(1200, activation='sigmoid'))\n",
    "   # model.add(keras.layers.Dense(300, activation='sigmoid'))\n",
    "   # model.add(keras.layers.Dense(200, activation='linear'))\n",
    "    model.add(keras.layers.LSTM(1, activation='linear',\n",
    "                  #recurrent_activation='linear',\n",
    "                  kernel_initializer='glorot_normal',\n",
    "                   recurrent_initializer='orthogonal',\n",
    "                               batch_input_shape=(None, n_inputs, 1)))\n",
    "    #model.add(keras.layers.Dense(1200, activation='linear'))\n",
    "    #model.add(keras.layers.Dense(100, activation='linear'))\n",
    "    #model.add(keras.layers.Dense(50, activation='linear'))\n",
    "    #model.add(keras.layers.Dense(7, activation='linear'))\n",
    "    #model.add(keras.layers.Dense(1, activation='sigmoid'))\n",
    "    \n",
    "    optimizer = keras.optimizers.Adam(lr=0.1)  # オプティマイザ\n",
    "    loss_fn = keras.losses.mse  # 損失関数\n",
    "    model.compile(loss=loss_fn, optimizer=optimizer, metrics=['mae'])  # コンパイル\n",
    "    #model.summary()\n",
    "    return model"
   ]
  },
  {
   "cell_type": "code",
   "execution_count": 8,
   "metadata": {},
   "outputs": [],
   "source": [
    "# 入力したインプットデータをdropna、正規化、形状を整える関数\n",
    "def create_traindata(df, X_train, y_train):\n",
    "\n",
    "\n",
    "    X_train = X_train.dropna()  # NaNを削除\n",
    "    y_train = y_train.dropna()  # NaNを削除\n",
    "    print('入力数:', X_train.columns)\n",
    "    row_count = len(X_train)  # 行数を取得(形状の作成に使用)\n",
    "    column_count = len(X_train.columns)  # 列数を取得(形状の作成に使用)\n",
    "    print('行数:', row_count)\n",
    "    print('列数:', column_count)\n",
    "    print('整形前の形状(特徴量):', X_train.shape)\n",
    "    X_train = mm.fit_transform(X_train)  # 正規化\n",
    "    X_train = np.array(X_train).reshape(row_count, column_count, -1)  # 特徴量の形状(3次元)\n",
    "    y_train = np.array(y_train).reshape(row_count,1)  # 特徴量の形状\n",
    "    y_train = mm.fit_transform(y_train)  # 正規化\n",
    "\n",
    "    print('形状(特徴量):', X_train.shape)\n",
    "    print('形状(目的変数):', y_train.shape)\n",
    "    return X_train, y_train"
   ]
  },
  {
   "cell_type": "code",
   "execution_count": 9,
   "metadata": {},
   "outputs": [],
   "source": [
    "# モデルの学習関数\n",
    "def learn_model(X_train, y_train):\n",
    "    model = model_create()  # モデル作成\n",
    "    earlystopping = keras.callbacks.EarlyStopping(monitor='val_loss', min_delta=0, patience=7, verbose=0, mode='auto')\n",
    "    # 学習 LSTM_GBPJPY\n",
    "    print('モデルの学習を開始します')\n",
    "    history_model = model.fit(X_train, y_train, batch_size=1,epochs=25,validation_split=0.05,\n",
    "                                                #callbacks=[tensorboard,earlystopping]\n",
    "                                               )\n",
    "    return model"
   ]
  },
  {
   "cell_type": "code",
   "execution_count": 10,
   "metadata": {},
   "outputs": [],
   "source": [
    "# 予測関数\n",
    "def predict(model, X_train, y_train):\n",
    "    y_pred = model(X_train)\n",
    "    y_pred = mm.inverse_transform(y_pred)  # 予測結果の正規化をデコード\n",
    "    y_train = mm.inverse_transform(y_train)  # 実際の結果の正規化をデコード\n",
    "    return y_pred, y_train"
   ]
  },
  {
   "cell_type": "code",
   "execution_count": 11,
   "metadata": {
    "scrolled": true
   },
   "outputs": [],
   "source": [
    "# プロット関数\n",
    "def plot_result(y_pred, y_train):\n",
    "    flg = plt.figure()\n",
    "    fig = plt.figure(figsize=(6, 4), dpi=72, linewidth=10)\n",
    "    ax = fig.add_subplot(111, xlabel='number', ylabel='price',title='pred_act')  # グラフ作成\n",
    "\n",
    "    ax.plot(y_pred, label='predict')  # 予測\n",
    "    ax.plot(y_train, label='actual')  # 実測\n",
    "    plt.legend()"
   ]
  },
  {
   "cell_type": "code",
   "execution_count": null,
   "metadata": {
    "scrolled": true
   },
   "outputs": [
    {
     "name": "stdout",
     "output_type": "stream",
     "text": [
      "入力数: Index(['2', '3', '4', '5', '6', '7', '8', '9', '10', '11',\n",
      "       ...\n",
      "       '2433', 'complete', 'volume', 'bid_open', 'bid_high', 'bid_low',\n",
      "       'bid_close', '日付(hour)', '日付(minute)', '日付(weekday)'],\n",
      "      dtype='object', length=2441)\n",
      "行数: 471\n",
      "列数: 2441\n",
      "整形前の形状(特徴量): (471, 2441)\n",
      "形状(特徴量): (471, 2441, 1)\n",
      "形状(目的変数): (471, 1)\n",
      "モデルの学習を開始します\n",
      "Epoch 1/25\n",
      "447/447 [==============================] - 132s 294ms/step - loss: 0.0657 - mae: 0.2041 - val_loss: 0.0031 - val_mae: 0.0450\n",
      "Epoch 2/25\n",
      "447/447 [==============================] - 131s 294ms/step - loss: 0.0562 - mae: 0.1659 - val_loss: 0.3443 - val_mae: 0.5838\n",
      "Epoch 3/25\n",
      "447/447 [==============================] - 127s 284ms/step - loss: 0.4531 - mae: 0.6267 - val_loss: 0.7387 - val_mae: 0.8578\n",
      "Epoch 4/25\n",
      "447/447 [==============================] - 128s 287ms/step - loss: 0.4416 - mae: 0.6144 - val_loss: 0.7253 - val_mae: 0.8499\n",
      "Epoch 5/25\n",
      "447/447 [==============================] - 132s 296ms/step - loss: 0.4416 - mae: 0.6111 - val_loss: 0.7226 - val_mae: 0.8483\n",
      "Epoch 6/25\n",
      "447/447 [==============================] - 132s 295ms/step - loss: 0.4632 - mae: 0.6322 - val_loss: 0.7216 - val_mae: 0.8477\n",
      "Epoch 7/25\n",
      "447/447 [==============================] - 130s 291ms/step - loss: 0.4450 - mae: 0.6137 - val_loss: 0.7212 - val_mae: 0.8475\n",
      "Epoch 8/25\n",
      "447/447 [==============================] - 129s 289ms/step - loss: 0.4552 - mae: 0.6269 - val_loss: 0.7209 - val_mae: 0.8473\n",
      "Epoch 9/25\n",
      "447/447 [==============================] - 128s 286ms/step - loss: 0.4495 - mae: 0.6185 - val_loss: 0.7208 - val_mae: 0.8472\n",
      "Epoch 10/25\n",
      "447/447 [==============================] - 130s 291ms/step - loss: 0.4710 - mae: 0.6437 - val_loss: 0.7207 - val_mae: 0.8472\n",
      "Epoch 11/25\n",
      "436/447 [============================>.] - ETA: 3s - loss: 0.4556 - mae: 0.6268"
     ]
    }
   ],
   "source": [
    "#**********5分後予測**********学習のinput情報(特徴量、答え)\n",
    "\n",
    "X_train = df.loc[:, '2':'日付(weekday)']  # 全行 , 列名称(始まり):列名称(終わり)\n",
    "y_train = df.loc[:, 'RATE5min']  # 全行 , 最終列\n",
    "n_inputs = len(X_train.columns)  # 入力数\n",
    "X_train, y_train = create_traindata(df, X_train, y_train)  # 入力したインプットデータをdropna、正規化、形状を整える\n",
    "model = learn_model(X_train, y_train)  # モデルの学習\n",
    "y_pred, y_train = predict(model, X_train, y_train) # 予測\n",
    "plot_result(y_pred, y_train)  # プロット"
   ]
  },
  {
   "cell_type": "code",
   "execution_count": null,
   "metadata": {},
   "outputs": [],
   "source": [
    "y_pred"
   ]
  },
  {
   "cell_type": "code",
   "execution_count": null,
   "metadata": {},
   "outputs": [],
   "source": [
    "y_train"
   ]
  },
  {
   "cell_type": "code",
   "execution_count": null,
   "metadata": {},
   "outputs": [],
   "source": [
    "y_train - y_pred"
   ]
  },
  {
   "cell_type": "code",
   "execution_count": null,
   "metadata": {},
   "outputs": [],
   "source": [
    "b = y_train.tolist()"
   ]
  },
  {
   "cell_type": "code",
   "execution_count": null,
   "metadata": {},
   "outputs": [],
   "source": []
  },
  {
   "cell_type": "code",
   "execution_count": null,
   "metadata": {},
   "outputs": [],
   "source": [
    "#model = keras.models.load_model('model.hdf5')  # モデルを読込み\n",
    "#model.load_weights('param.hdf5')  # 重みを読込み"
   ]
  },
  {
   "cell_type": "code",
   "execution_count": null,
   "metadata": {},
   "outputs": [],
   "source": [
    "model.save('model.hdf5')  # モデルを保存\n",
    "model.save_weights('param.hdf5')  # 重みを保存"
   ]
  },
  {
   "cell_type": "code",
   "execution_count": null,
   "metadata": {},
   "outputs": [],
   "source": []
  },
  {
   "cell_type": "code",
   "execution_count": null,
   "metadata": {},
   "outputs": [],
   "source": []
  }
 ],
 "metadata": {
  "kernelspec": {
   "display_name": "Python 3",
   "language": "python",
   "name": "python3"
  },
  "language_info": {
   "codemirror_mode": {
    "name": "ipython",
    "version": 3
   },
   "file_extension": ".py",
   "mimetype": "text/x-python",
   "name": "python",
   "nbconvert_exporter": "python",
   "pygments_lexer": "ipython3",
   "version": "3.8.5"
  }
 },
 "nbformat": 4,
 "nbformat_minor": 4
}
