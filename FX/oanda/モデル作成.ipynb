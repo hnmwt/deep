{
 "cells": [
  {
   "cell_type": "code",
   "execution_count": 1,
   "metadata": {},
   "outputs": [],
   "source": [
    "import pandas as pd\n",
    "import numpy as np\n",
    "import datetime\n",
    "import tensorflow as tf\n",
    "from tensorflow import keras\n",
    "import time\n",
    "import matplotlib as mpl\n",
    "import matplotlib.pyplot as plt\n",
    "from sklearn import preprocessing\n",
    "import matplotlib as mpl\n",
    "import matplotlib.pyplot as plt\n",
    "\n",
    "#numpy配列を省略しないようにする\n",
    "np.set_printoptions(threshold=np.inf)\n",
    "#pandasを省略しないようにする\n",
    "pd.set_option('display.max_columns', 500) # 列\n",
    "pd.set_option('display.max_rows', 500)  # 行"
   ]
  },
  {
   "cell_type": "code",
   "execution_count": 2,
   "metadata": {
    "scrolled": true
   },
   "outputs": [],
   "source": [
    "# 正規化関数\n",
    "def mmscaler(data):\n",
    "    mm = preprocessing.MinMaxScaler()  # 正規化エンコード、デコード\n",
    "    dat = mm.fit_transform(data)\n",
    "    return dat"
   ]
  },
  {
   "cell_type": "code",
   "execution_count": 3,
   "metadata": {},
   "outputs": [],
   "source": [
    "# トレーニングデータの作成\n",
    "def create_data(read_dir, save_dir):\n",
    "    df = pd.read_csv(read_dir, encoding='shift_jis')\n",
    "    #カラムを削除\n",
    "    df = df.dropna()  # NaNを削除\n",
    "    df.drop(labels='日付(ローソク足)', axis=1, inplace=True) # ろうそく足データの日付\n",
    "    \n",
    "    df['日付'] = pd.to_datetime(df['日付'], format='%Y-%m-%d-%A %H:%M:%S')  # 日付カラムを日付型に変換\n",
    "    df['日付(hour)'] = df['日付'].dt.hour  # hourをデータに追加\n",
    "    df['日付(minute)'] = df['日付'].dt.minute  # minuteをデータに追加\n",
    "    df['日付(weekday)'] = df['日付'].dt.dayofweek  # minuteをデータに追加\n",
    "    # df['日付']カラムが [datetime64[ns]]型になっていて扱いづらいので最後に削除する\n",
    "    #df.drop(labels='日付', axis=1, inplace=True)\n",
    "    \n",
    "    date = df['日付'] # 代入して変数を避難させる\n",
    "    \n",
    "    df = df.loc[:, '2':'日付(weekday)'].astype('float32')  # データ型をfloatに変換して代入\n",
    "    df.insert(0, '日付', date)  # 日付を1列目に代入\n",
    "    #df.to_csv(save_dir , encoding='shift_jis', index=False)\n",
    "    return df"
   ]
  },
  {
   "cell_type": "code",
   "execution_count": 4,
   "metadata": {},
   "outputs": [],
   "source": [
    "# n時間後の時刻とレートを計算してdfに反映関数\n",
    "def UNIX_RATE_conversion(df, time, name):\n",
    "    # UNIX時間に変更\n",
    "    df['日付UNIX'] = pd.to_datetime(df['日付']).dt.tz_localize('Asia/Tokyo')\n",
    "    df['日付UNIX'] = df['日付UNIX'].astype('int64') // 10**9\n",
    "    \n",
    "    df['日付UNIX' + name] = df['日付UNIX'].shift(time) # 1行上にずらして5分後の値にしている\n",
    "    df['日付UNIX_計算後' + name] = df['日付UNIX' + name] - df['日付UNIX'] # -分後の値か表した変数\n",
    "    df['RATE' + name] = df['bid_close'].shift(time)\n",
    "\n",
    "    return df  # n分後のUNIX時間、レートの計算結果を反映している"
   ]
  },
  {
   "cell_type": "code",
   "execution_count": 5,
   "metadata": {},
   "outputs": [],
   "source": [
    "# 変数宣言\n",
    "read_dir = \"./shape/GBP_JPY_X_train_data.csv\"\n",
    "save_dir =  \"./model/GBPJPY_5M.csv\"\n",
    "mm = preprocessing.MinMaxScaler()  # 正規化エンコード、デコード"
   ]
  },
  {
   "cell_type": "code",
   "execution_count": 6,
   "metadata": {},
   "outputs": [],
   "source": [
    "# ***************************************トレーニングデータの作成***************************************\n",
    "df = create_data(read_dir, save_dir)\n",
    "\n",
    "# 5分後の時刻とレートを計算\n",
    "after_5min = -1 # shift関数のスライド数 (1行上にずらして5分後の値にしている)\n",
    "name = '5min'\n",
    "df = UNIX_RATE_conversion(df, after_5min,name)  # n時間後の時刻とレートを計算してdfに反映\n",
    "\n",
    "# 日付チェック\n",
    "df = df[(df['日付UNIX_計算後' + name] < 320) & (270 < df['日付UNIX_計算後' + name])] # 日付の差が270秒から320秒の間のみ抽出\n",
    "\n",
    "# 4時間後の時刻とレートを計算\n",
    "after_4h = -47\n",
    "name = '4h'\n",
    "df = UNIX_RATE_conversion(df, after_4h, name)  # n時間後の時刻とレートを計算してdfに反映\n",
    "\n",
    "# ***************************************トレーニングデータの作成***************************************\n",
    "\n",
    "df = df[2::4]  # 2行目から4行飛ばしで読み込む(oandaの会員がレギュラーのため)  # 後で削除\n",
    "df.to_csv(\"./model/GBPJPYデータ.csv\", encoding='shift_jis', index=False)"
   ]
  },
  {
   "cell_type": "code",
   "execution_count": 7,
   "metadata": {},
   "outputs": [],
   "source": [
    "def model_create():\n",
    "    #n_inputs = len(X_train.columns)  # 入力数\n",
    "    model = keras.models.Sequential()\n",
    "   # model.add(keras.layers.Dense(1200, activation='sigmoid'))\n",
    "   # model.add(keras.layers.Dense(300, activation='sigmoid'))\n",
    "   # model.add(keras.layers.Dense(200, activation='linear'))\n",
    "    model.add(keras.layers.LSTM(1, activation='linear',\n",
    "                  #recurrent_activation='sigmoid',\n",
    "                  kernel_initializer='glorot_normal',\n",
    "                   recurrent_initializer='orthogonal',\n",
    "                               batch_input_shape=(None, n_inputs, 1)))\n",
    "    #model.add(keras.layers.Dense(1200, activation='linear'))\n",
    "    model.add(keras.layers.Dense(100, activation='linear'))\n",
    "    #model.add(keras.layers.Dense(50, activation='linear'))\n",
    "    model.add(keras.layers.Dense(7, activation='linear'))\n",
    "    model.add(keras.layers.Dense(1, activation='linear'))\n",
    "    \n",
    "    optimizer = keras.optimizers.Adam(lr=0.1)  # オプティマイザ\n",
    "    loss_fn = keras.losses.mse  # 損失関数\n",
    "    model.compile(loss=loss_fn, optimizer=optimizer, metrics=['mae'])  # コンパイル\n",
    "    #model.summary()\n",
    "    return model"
   ]
  },
  {
   "cell_type": "code",
   "execution_count": 8,
   "metadata": {},
   "outputs": [],
   "source": [
    "# 入力したインプットデータを正規化、形状を整える関数\n",
    "def create_traindata(df, X_train, y_train):\n",
    "\n",
    "\n",
    "    #X_train = X_train.dropna()  # NaNを削除\n",
    "    #y_train = y_train.dropna()  # NaNを削除\n",
    "    print('入力数:', X_train.columns)\n",
    "    row_count = len(y_train)  # 行数を取得(形状の作成に使用)\n",
    "    column_count = len(X_train.columns)  # 列数を取得(形状の作成に使用)\n",
    "    \n",
    "    print('行数:', row_count)\n",
    "    print('列数:', column_count)\n",
    "    print('整形前の形状(特徴量):', X_train.shape)\n",
    "    X_train = mm.fit_transform(X_train)  # 正規化\n",
    "    X_train = np.array(X_train).reshape(row_count, column_count, -1)  # 特徴量の形状(3次元)\n",
    "    y_train = np.array(y_train).reshape(row_count,1)  # 特徴量の形状\n",
    "    y_train = mm.fit_transform(y_train)  # 正規化\n",
    "\n",
    "    print('形状(特徴量):', X_train.shape)\n",
    "    print('形状(目的変数):', y_train.shape)\n",
    "    return X_train, y_train"
   ]
  },
  {
   "cell_type": "code",
   "execution_count": 13,
   "metadata": {},
   "outputs": [],
   "source": [
    "# モデルの学習関数\n",
    "def learn_model(X_train, y_train, model_name, param_name, epochs):\n",
    "    model = model_create()  # モデル作成\n",
    "    earlystopping = keras.callbacks.EarlyStopping(monitor='val_loss', min_delta=0, patience=7, verbose=0, mode='auto')\n",
    "    \n",
    "    # 学習 LSTM_GBPJPY\n",
    "    print('モデルの学習を開始します')\n",
    "    history_model = model.fit(X_train, y_train, batch_size=1,epochs=epochs,validation_split=0.05,\n",
    "                                                  callbacks=[\n",
    "                                                  #tensorboard,\n",
    "                                                  earlystopping]\n",
    "                                               )\n",
    "    model.save(model_name)  # モデルを保存\n",
    "    model.save_weights(param_name)  # 重みを保存\n",
    "    return model"
   ]
  },
  {
   "cell_type": "code",
   "execution_count": 14,
   "metadata": {},
   "outputs": [],
   "source": [
    "# 予測関数\n",
    "def predict(model, X_train, y_train):\n",
    "    y_pred = model(X_train)\n",
    "    y_pred = mm.inverse_transform(y_pred)  # 予測結果の正規化をデコード\n",
    "    y_train = mm.inverse_transform(y_train)  # 実際の結果の正規化をデコード\n",
    "    return y_pred, y_train"
   ]
  },
  {
   "cell_type": "code",
   "execution_count": 15,
   "metadata": {
    "scrolled": true
   },
   "outputs": [],
   "source": [
    "# プロット関数\n",
    "def plot_result(y_pred, y_train):\n",
    "    flg = plt.figure()\n",
    "    fig = plt.figure(figsize=(6, 4), dpi=72, linewidth=10)\n",
    "    ax = fig.add_subplot(111, xlabel='number', ylabel='price',title='pred_act')  # グラフ作成\n",
    "\n",
    "    ax.plot(y_pred, label='predict')  # 予測\n",
    "    ax.plot(y_train, label='actual')  # 実測\n",
    "    plt.legend()"
   ]
  },
  {
   "cell_type": "code",
   "execution_count": null,
   "metadata": {
    "scrolled": true
   },
   "outputs": [],
   "source": [
    "epochs = 5  # モデル学習時のエポック数\n",
    "#**********5分後予測**********学習のinput情報(特徴量、答え)\n",
    "df = df.dropna()  # Nanを削除\n",
    "X_train = df.loc[:, '2':'日付(weekday)']  # 全行 , 列名称(始まり):列名称(終わり)\n",
    "y_train = df.loc[:, 'RATE5min']  # 全行 , 最終列\n",
    "n_inputs = len(X_train.columns)  # 入力数\n",
    "X_train, y_train = create_traindata(df, X_train, y_train)  # 入力したインプットデータをdropna、正規化、形状を整える\n",
    "model = learn_model(X_train, y_train, './model/GBPJPY_5m/model.hdf5', './model/GBPJPY_5m/param.hdf5', epochs)  # モデルの学習\n",
    "y_pred, y_train = predict(model, X_train, y_train) # 予測\n",
    "plot_result(y_pred, y_train)  # プロット"
   ]
  },
  {
   "cell_type": "code",
   "execution_count": null,
   "metadata": {},
   "outputs": [],
   "source": [
    "y_pred"
   ]
  },
  {
   "cell_type": "code",
   "execution_count": null,
   "metadata": {},
   "outputs": [],
   "source": [
    "y_train"
   ]
  },
  {
   "cell_type": "code",
   "execution_count": null,
   "metadata": {},
   "outputs": [],
   "source": [
    "y_train - y_pred"
   ]
  },
  {
   "cell_type": "code",
   "execution_count": null,
   "metadata": {},
   "outputs": [],
   "source": [
    "b = y_train.tolist()"
   ]
  },
  {
   "cell_type": "code",
   "execution_count": 16,
   "metadata": {},
   "outputs": [
    {
     "name": "stdout",
     "output_type": "stream",
     "text": [
      "入力数: Index(['2', '3', '4', '5', '6', '7', '8', '9', '10', '11',\n",
      "       ...\n",
      "       '2433', 'complete', 'volume', 'bid_open', 'bid_high', 'bid_low',\n",
      "       'bid_close', '日付(hour)', '日付(minute)', '日付(weekday)'],\n",
      "      dtype='object', length=2441)\n",
      "行数: 459\n",
      "列数: 2441\n",
      "整形前の形状(特徴量): (459, 2441)\n",
      "形状(特徴量): (459, 2441, 1)\n",
      "形状(目的変数): (459, 1)\n",
      "モデルの学習を開始します\n",
      "Epoch 1/30\n",
      "436/436 [==============================] - 131s 299ms/step - loss: 0.3084 - mae: 0.3331 - val_loss: 0.0028 - val_mae: 0.0470\n",
      "Epoch 2/30\n",
      "436/436 [==============================] - 141s 324ms/step - loss: 0.0548 - mae: 0.1849 - val_loss: 0.0659 - val_mae: 0.2519\n",
      "Epoch 3/30\n",
      "436/436 [==============================] - 144s 330ms/step - loss: 0.0873 - mae: 0.2348 - val_loss: 0.0185 - val_mae: 0.1265\n",
      "Epoch 4/30\n",
      "436/436 [==============================] - 144s 330ms/step - loss: 0.0745 - mae: 0.2205 - val_loss: 0.1015 - val_mae: 0.3146\n",
      "Epoch 5/30\n",
      "436/436 [==============================] - 165s 380ms/step - loss: 0.1284 - mae: 0.2870 - val_loss: 0.1677 - val_mae: 0.4064\n",
      "Epoch 6/30\n",
      "436/436 [==============================] - 142s 326ms/step - loss: 0.4149 - mae: 0.2827 - val_loss: 0.4631 - val_mae: 0.6787\n",
      "Epoch 7/30\n",
      "436/436 [==============================] - 137s 315ms/step - loss: 0.2094 - mae: 0.2950 - val_loss: 0.0243 - val_mae: 0.1476\n",
      "Epoch 8/30\n",
      " 34/436 [=>............................] - ETA: 1:52 - loss: 0.0498 - mae: 0.1741"
     ]
    },
    {
     "ename": "KeyboardInterrupt",
     "evalue": "",
     "output_type": "error",
     "traceback": [
      "\u001b[1;31m---------------------------------------------------------------------------\u001b[0m",
      "\u001b[1;31mKeyboardInterrupt\u001b[0m                         Traceback (most recent call last)",
      "\u001b[1;32m<ipython-input-16-602507517864>\u001b[0m in \u001b[0;36m<module>\u001b[1;34m\u001b[0m\n\u001b[0;32m      6\u001b[0m \u001b[0mn_inputs\u001b[0m \u001b[1;33m=\u001b[0m \u001b[0mlen\u001b[0m\u001b[1;33m(\u001b[0m\u001b[0mX_train\u001b[0m\u001b[1;33m.\u001b[0m\u001b[0mcolumns\u001b[0m\u001b[1;33m)\u001b[0m  \u001b[1;31m# 入力数\u001b[0m\u001b[1;33m\u001b[0m\u001b[1;33m\u001b[0m\u001b[0m\n\u001b[0;32m      7\u001b[0m \u001b[0mX_train\u001b[0m\u001b[1;33m,\u001b[0m \u001b[0my_train\u001b[0m \u001b[1;33m=\u001b[0m \u001b[0mcreate_traindata\u001b[0m\u001b[1;33m(\u001b[0m\u001b[0mdf\u001b[0m\u001b[1;33m,\u001b[0m \u001b[0mX_train\u001b[0m\u001b[1;33m,\u001b[0m \u001b[0my_train\u001b[0m\u001b[1;33m)\u001b[0m  \u001b[1;31m# 入力したインプットデータを正規化、形状を整える\u001b[0m\u001b[1;33m\u001b[0m\u001b[1;33m\u001b[0m\u001b[0m\n\u001b[1;32m----> 8\u001b[1;33m \u001b[0mmodel\u001b[0m \u001b[1;33m=\u001b[0m \u001b[0mlearn_model\u001b[0m\u001b[1;33m(\u001b[0m\u001b[0mX_train\u001b[0m\u001b[1;33m,\u001b[0m \u001b[0my_train\u001b[0m\u001b[1;33m,\u001b[0m \u001b[1;34m'./model/GBPJPY_4h/model.hdf5'\u001b[0m\u001b[1;33m,\u001b[0m \u001b[1;34m'./model/GBPJPY_4h/param.hdf5'\u001b[0m\u001b[1;33m,\u001b[0m \u001b[0mepochs\u001b[0m\u001b[1;33m)\u001b[0m  \u001b[1;31m# モデルの学習\u001b[0m\u001b[1;33m\u001b[0m\u001b[1;33m\u001b[0m\u001b[0m\n\u001b[0m\u001b[0;32m      9\u001b[0m \u001b[0my_pred\u001b[0m\u001b[1;33m,\u001b[0m \u001b[0my_train\u001b[0m \u001b[1;33m=\u001b[0m \u001b[0mpredict\u001b[0m\u001b[1;33m(\u001b[0m\u001b[0mmodel\u001b[0m\u001b[1;33m,\u001b[0m \u001b[0mX_train\u001b[0m\u001b[1;33m,\u001b[0m \u001b[0my_train\u001b[0m\u001b[1;33m)\u001b[0m \u001b[1;31m# 予測\u001b[0m\u001b[1;33m\u001b[0m\u001b[1;33m\u001b[0m\u001b[0m\n\u001b[0;32m     10\u001b[0m \u001b[0mplot_result\u001b[0m\u001b[1;33m(\u001b[0m\u001b[0my_pred\u001b[0m\u001b[1;33m,\u001b[0m \u001b[0my_train\u001b[0m\u001b[1;33m)\u001b[0m  \u001b[1;31m# プロット\u001b[0m\u001b[1;33m\u001b[0m\u001b[1;33m\u001b[0m\u001b[0m\n",
      "\u001b[1;32m<ipython-input-13-44ffbfb9f64d>\u001b[0m in \u001b[0;36mlearn_model\u001b[1;34m(X_train, y_train, model_name, param_name, epochs)\u001b[0m\n\u001b[0;32m      6\u001b[0m     \u001b[1;31m# 学習 LSTM_GBPJPY\u001b[0m\u001b[1;33m\u001b[0m\u001b[1;33m\u001b[0m\u001b[1;33m\u001b[0m\u001b[0m\n\u001b[0;32m      7\u001b[0m     \u001b[0mprint\u001b[0m\u001b[1;33m(\u001b[0m\u001b[1;34m'モデルの学習を開始します'\u001b[0m\u001b[1;33m)\u001b[0m\u001b[1;33m\u001b[0m\u001b[1;33m\u001b[0m\u001b[0m\n\u001b[1;32m----> 8\u001b[1;33m     history_model = model.fit(X_train, y_train, batch_size=1,epochs=epochs,validation_split=0.05,\n\u001b[0m\u001b[0;32m      9\u001b[0m                                                   callbacks=[\n\u001b[0;32m     10\u001b[0m                                                   \u001b[1;31m#tensorboard,\u001b[0m\u001b[1;33m\u001b[0m\u001b[1;33m\u001b[0m\u001b[1;33m\u001b[0m\u001b[0m\n",
      "\u001b[1;32mc:\\users\\hnmwt\\appdata\\local\\programs\\python\\python38\\lib\\site-packages\\tensorflow\\python\\keras\\engine\\training.py\u001b[0m in \u001b[0;36mfit\u001b[1;34m(self, x, y, batch_size, epochs, verbose, callbacks, validation_split, validation_data, shuffle, class_weight, sample_weight, initial_epoch, steps_per_epoch, validation_steps, validation_batch_size, validation_freq, max_queue_size, workers, use_multiprocessing)\u001b[0m\n\u001b[0;32m   1098\u001b[0m                 _r=1):\n\u001b[0;32m   1099\u001b[0m               \u001b[0mcallbacks\u001b[0m\u001b[1;33m.\u001b[0m\u001b[0mon_train_batch_begin\u001b[0m\u001b[1;33m(\u001b[0m\u001b[0mstep\u001b[0m\u001b[1;33m)\u001b[0m\u001b[1;33m\u001b[0m\u001b[1;33m\u001b[0m\u001b[0m\n\u001b[1;32m-> 1100\u001b[1;33m               \u001b[0mtmp_logs\u001b[0m \u001b[1;33m=\u001b[0m \u001b[0mself\u001b[0m\u001b[1;33m.\u001b[0m\u001b[0mtrain_function\u001b[0m\u001b[1;33m(\u001b[0m\u001b[0miterator\u001b[0m\u001b[1;33m)\u001b[0m\u001b[1;33m\u001b[0m\u001b[1;33m\u001b[0m\u001b[0m\n\u001b[0m\u001b[0;32m   1101\u001b[0m               \u001b[1;32mif\u001b[0m \u001b[0mdata_handler\u001b[0m\u001b[1;33m.\u001b[0m\u001b[0mshould_sync\u001b[0m\u001b[1;33m:\u001b[0m\u001b[1;33m\u001b[0m\u001b[1;33m\u001b[0m\u001b[0m\n\u001b[0;32m   1102\u001b[0m                 \u001b[0mcontext\u001b[0m\u001b[1;33m.\u001b[0m\u001b[0masync_wait\u001b[0m\u001b[1;33m(\u001b[0m\u001b[1;33m)\u001b[0m\u001b[1;33m\u001b[0m\u001b[1;33m\u001b[0m\u001b[0m\n",
      "\u001b[1;32mc:\\users\\hnmwt\\appdata\\local\\programs\\python\\python38\\lib\\site-packages\\tensorflow\\python\\eager\\def_function.py\u001b[0m in \u001b[0;36m__call__\u001b[1;34m(self, *args, **kwds)\u001b[0m\n\u001b[0;32m    826\u001b[0m     \u001b[0mtracing_count\u001b[0m \u001b[1;33m=\u001b[0m \u001b[0mself\u001b[0m\u001b[1;33m.\u001b[0m\u001b[0mexperimental_get_tracing_count\u001b[0m\u001b[1;33m(\u001b[0m\u001b[1;33m)\u001b[0m\u001b[1;33m\u001b[0m\u001b[1;33m\u001b[0m\u001b[0m\n\u001b[0;32m    827\u001b[0m     \u001b[1;32mwith\u001b[0m \u001b[0mtrace\u001b[0m\u001b[1;33m.\u001b[0m\u001b[0mTrace\u001b[0m\u001b[1;33m(\u001b[0m\u001b[0mself\u001b[0m\u001b[1;33m.\u001b[0m\u001b[0m_name\u001b[0m\u001b[1;33m)\u001b[0m \u001b[1;32mas\u001b[0m \u001b[0mtm\u001b[0m\u001b[1;33m:\u001b[0m\u001b[1;33m\u001b[0m\u001b[1;33m\u001b[0m\u001b[0m\n\u001b[1;32m--> 828\u001b[1;33m       \u001b[0mresult\u001b[0m \u001b[1;33m=\u001b[0m \u001b[0mself\u001b[0m\u001b[1;33m.\u001b[0m\u001b[0m_call\u001b[0m\u001b[1;33m(\u001b[0m\u001b[1;33m*\u001b[0m\u001b[0margs\u001b[0m\u001b[1;33m,\u001b[0m \u001b[1;33m**\u001b[0m\u001b[0mkwds\u001b[0m\u001b[1;33m)\u001b[0m\u001b[1;33m\u001b[0m\u001b[1;33m\u001b[0m\u001b[0m\n\u001b[0m\u001b[0;32m    829\u001b[0m       \u001b[0mcompiler\u001b[0m \u001b[1;33m=\u001b[0m \u001b[1;34m\"xla\"\u001b[0m \u001b[1;32mif\u001b[0m \u001b[0mself\u001b[0m\u001b[1;33m.\u001b[0m\u001b[0m_experimental_compile\u001b[0m \u001b[1;32melse\u001b[0m \u001b[1;34m\"nonXla\"\u001b[0m\u001b[1;33m\u001b[0m\u001b[1;33m\u001b[0m\u001b[0m\n\u001b[0;32m    830\u001b[0m       \u001b[0mnew_tracing_count\u001b[0m \u001b[1;33m=\u001b[0m \u001b[0mself\u001b[0m\u001b[1;33m.\u001b[0m\u001b[0mexperimental_get_tracing_count\u001b[0m\u001b[1;33m(\u001b[0m\u001b[1;33m)\u001b[0m\u001b[1;33m\u001b[0m\u001b[1;33m\u001b[0m\u001b[0m\n",
      "\u001b[1;32mc:\\users\\hnmwt\\appdata\\local\\programs\\python\\python38\\lib\\site-packages\\tensorflow\\python\\eager\\def_function.py\u001b[0m in \u001b[0;36m_call\u001b[1;34m(self, *args, **kwds)\u001b[0m\n\u001b[0;32m    853\u001b[0m       \u001b[1;31m# In this case we have created variables on the first call, so we run the\u001b[0m\u001b[1;33m\u001b[0m\u001b[1;33m\u001b[0m\u001b[1;33m\u001b[0m\u001b[0m\n\u001b[0;32m    854\u001b[0m       \u001b[1;31m# defunned version which is guaranteed to never create variables.\u001b[0m\u001b[1;33m\u001b[0m\u001b[1;33m\u001b[0m\u001b[1;33m\u001b[0m\u001b[0m\n\u001b[1;32m--> 855\u001b[1;33m       \u001b[1;32mreturn\u001b[0m \u001b[0mself\u001b[0m\u001b[1;33m.\u001b[0m\u001b[0m_stateless_fn\u001b[0m\u001b[1;33m(\u001b[0m\u001b[1;33m*\u001b[0m\u001b[0margs\u001b[0m\u001b[1;33m,\u001b[0m \u001b[1;33m**\u001b[0m\u001b[0mkwds\u001b[0m\u001b[1;33m)\u001b[0m  \u001b[1;31m# pylint: disable=not-callable\u001b[0m\u001b[1;33m\u001b[0m\u001b[1;33m\u001b[0m\u001b[0m\n\u001b[0m\u001b[0;32m    856\u001b[0m     \u001b[1;32melif\u001b[0m \u001b[0mself\u001b[0m\u001b[1;33m.\u001b[0m\u001b[0m_stateful_fn\u001b[0m \u001b[1;32mis\u001b[0m \u001b[1;32mnot\u001b[0m \u001b[1;32mNone\u001b[0m\u001b[1;33m:\u001b[0m\u001b[1;33m\u001b[0m\u001b[1;33m\u001b[0m\u001b[0m\n\u001b[0;32m    857\u001b[0m       \u001b[1;31m# Release the lock early so that multiple threads can perform the call\u001b[0m\u001b[1;33m\u001b[0m\u001b[1;33m\u001b[0m\u001b[1;33m\u001b[0m\u001b[0m\n",
      "\u001b[1;32mc:\\users\\hnmwt\\appdata\\local\\programs\\python\\python38\\lib\\site-packages\\tensorflow\\python\\eager\\function.py\u001b[0m in \u001b[0;36m__call__\u001b[1;34m(self, *args, **kwargs)\u001b[0m\n\u001b[0;32m   2940\u001b[0m       (graph_function,\n\u001b[0;32m   2941\u001b[0m        filtered_flat_args) = self._maybe_define_function(args, kwargs)\n\u001b[1;32m-> 2942\u001b[1;33m     return graph_function._call_flat(\n\u001b[0m\u001b[0;32m   2943\u001b[0m         filtered_flat_args, captured_inputs=graph_function.captured_inputs)  # pylint: disable=protected-access\n\u001b[0;32m   2944\u001b[0m \u001b[1;33m\u001b[0m\u001b[0m\n",
      "\u001b[1;32mc:\\users\\hnmwt\\appdata\\local\\programs\\python\\python38\\lib\\site-packages\\tensorflow\\python\\eager\\function.py\u001b[0m in \u001b[0;36m_call_flat\u001b[1;34m(self, args, captured_inputs, cancellation_manager)\u001b[0m\n\u001b[0;32m   1916\u001b[0m         and executing_eagerly):\n\u001b[0;32m   1917\u001b[0m       \u001b[1;31m# No tape is watching; skip to running the function.\u001b[0m\u001b[1;33m\u001b[0m\u001b[1;33m\u001b[0m\u001b[1;33m\u001b[0m\u001b[0m\n\u001b[1;32m-> 1918\u001b[1;33m       return self._build_call_outputs(self._inference_function.call(\n\u001b[0m\u001b[0;32m   1919\u001b[0m           ctx, args, cancellation_manager=cancellation_manager))\n\u001b[0;32m   1920\u001b[0m     forward_backward = self._select_forward_and_backward_functions(\n",
      "\u001b[1;32mc:\\users\\hnmwt\\appdata\\local\\programs\\python\\python38\\lib\\site-packages\\tensorflow\\python\\eager\\function.py\u001b[0m in \u001b[0;36mcall\u001b[1;34m(self, ctx, args, cancellation_manager)\u001b[0m\n\u001b[0;32m    553\u001b[0m       \u001b[1;32mwith\u001b[0m \u001b[0m_InterpolateFunctionError\u001b[0m\u001b[1;33m(\u001b[0m\u001b[0mself\u001b[0m\u001b[1;33m)\u001b[0m\u001b[1;33m:\u001b[0m\u001b[1;33m\u001b[0m\u001b[1;33m\u001b[0m\u001b[0m\n\u001b[0;32m    554\u001b[0m         \u001b[1;32mif\u001b[0m \u001b[0mcancellation_manager\u001b[0m \u001b[1;32mis\u001b[0m \u001b[1;32mNone\u001b[0m\u001b[1;33m:\u001b[0m\u001b[1;33m\u001b[0m\u001b[1;33m\u001b[0m\u001b[0m\n\u001b[1;32m--> 555\u001b[1;33m           outputs = execute.execute(\n\u001b[0m\u001b[0;32m    556\u001b[0m               \u001b[0mstr\u001b[0m\u001b[1;33m(\u001b[0m\u001b[0mself\u001b[0m\u001b[1;33m.\u001b[0m\u001b[0msignature\u001b[0m\u001b[1;33m.\u001b[0m\u001b[0mname\u001b[0m\u001b[1;33m)\u001b[0m\u001b[1;33m,\u001b[0m\u001b[1;33m\u001b[0m\u001b[1;33m\u001b[0m\u001b[0m\n\u001b[0;32m    557\u001b[0m               \u001b[0mnum_outputs\u001b[0m\u001b[1;33m=\u001b[0m\u001b[0mself\u001b[0m\u001b[1;33m.\u001b[0m\u001b[0m_num_outputs\u001b[0m\u001b[1;33m,\u001b[0m\u001b[1;33m\u001b[0m\u001b[1;33m\u001b[0m\u001b[0m\n",
      "\u001b[1;32mc:\\users\\hnmwt\\appdata\\local\\programs\\python\\python38\\lib\\site-packages\\tensorflow\\python\\eager\\execute.py\u001b[0m in \u001b[0;36mquick_execute\u001b[1;34m(op_name, num_outputs, inputs, attrs, ctx, name)\u001b[0m\n\u001b[0;32m     57\u001b[0m   \u001b[1;32mtry\u001b[0m\u001b[1;33m:\u001b[0m\u001b[1;33m\u001b[0m\u001b[1;33m\u001b[0m\u001b[0m\n\u001b[0;32m     58\u001b[0m     \u001b[0mctx\u001b[0m\u001b[1;33m.\u001b[0m\u001b[0mensure_initialized\u001b[0m\u001b[1;33m(\u001b[0m\u001b[1;33m)\u001b[0m\u001b[1;33m\u001b[0m\u001b[1;33m\u001b[0m\u001b[0m\n\u001b[1;32m---> 59\u001b[1;33m     tensors = pywrap_tfe.TFE_Py_Execute(ctx._handle, device_name, op_name,\n\u001b[0m\u001b[0;32m     60\u001b[0m                                         inputs, attrs, num_outputs)\n\u001b[0;32m     61\u001b[0m   \u001b[1;32mexcept\u001b[0m \u001b[0mcore\u001b[0m\u001b[1;33m.\u001b[0m\u001b[0m_NotOkStatusException\u001b[0m \u001b[1;32mas\u001b[0m \u001b[0me\u001b[0m\u001b[1;33m:\u001b[0m\u001b[1;33m\u001b[0m\u001b[1;33m\u001b[0m\u001b[0m\n",
      "\u001b[1;31mKeyboardInterrupt\u001b[0m: "
     ]
    }
   ],
   "source": [
    "epochs = 30  # モデル学習時のエポック数\n",
    "#**********4時間後予測**********学習のinput情報(特徴量、答え)\n",
    "df = df.dropna()  # Nanを削除\n",
    "y_train = df.loc[:, 'RATE4h']  # 全行 , 最終列\n",
    "X_train = df.loc[:, '2':'日付(weekday)']  # 全行 , 列名称(始まり):列名称(終わり)\n",
    "n_inputs = len(X_train.columns)  # 入力数\n",
    "X_train, y_train = create_traindata(df, X_train, y_train)  # 入力したインプットデータを正規化、形状を整える\n",
    "model = learn_model(X_train, y_train, './model/GBPJPY_4h/model.hdf5', './model/GBPJPY_4h/param.hdf5', epochs)  # モデルの学習\n",
    "y_pred, y_train = predict(model, X_train, y_train) # 予測\n",
    "plot_result(y_pred, y_train)  # プロット"
   ]
  },
  {
   "cell_type": "code",
   "execution_count": null,
   "metadata": {},
   "outputs": [],
   "source": [
    "#model = keras.models.load_model('model.hdf5')  # モデルを読込み\n",
    "#model.load_weights('param.hdf5')  # 重みを読込み"
   ]
  },
  {
   "cell_type": "code",
   "execution_count": null,
   "metadata": {},
   "outputs": [],
   "source": [
    "#model.save('model.hdf5')  # モデルを保存\n",
    "#model.save_weights('param.hdf5')  # 重みを保存"
   ]
  },
  {
   "cell_type": "code",
   "execution_count": null,
   "metadata": {},
   "outputs": [],
   "source": []
  },
  {
   "cell_type": "code",
   "execution_count": null,
   "metadata": {},
   "outputs": [],
   "source": []
  }
 ],
 "metadata": {
  "kernelspec": {
   "display_name": "Python 3",
   "language": "python",
   "name": "python3"
  },
  "language_info": {
   "codemirror_mode": {
    "name": "ipython",
    "version": 3
   },
   "file_extension": ".py",
   "mimetype": "text/x-python",
   "name": "python",
   "nbconvert_exporter": "python",
   "pygments_lexer": "ipython3",
   "version": "3.8.5"
  }
 },
 "nbformat": 4,
 "nbformat_minor": 4
}
