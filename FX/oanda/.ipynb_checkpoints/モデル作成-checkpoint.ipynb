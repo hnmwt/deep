{
 "cells": [
  {
   "cell_type": "code",
   "execution_count": 1,
   "metadata": {},
   "outputs": [],
   "source": [
    "import pandas as pd\n",
    "import numpy as np\n",
    "import datetime\n",
    "import tensorflow as tf\n",
    "from tensorflow import keras\n",
    "import time\n",
    "import matplotlib as mpl\n",
    "import matplotlib.pyplot as plt\n",
    "from sklearn import preprocessing\n",
    "import matplotlib as mpl\n",
    "import matplotlib.pyplot as plt\n",
    "\n",
    "#numpy配列を省略しないようにする\n",
    "np.set_printoptions(threshold=np.inf)\n",
    "#pandasを省略しないようにする\n",
    "pd.set_option('display.max_columns', 500) # 列\n",
    "pd.set_option('display.max_rows', 500)  # 行\n",
    "\n",
    "mm = preprocessing.MinMaxScaler()  # 正規化エンコード、デコード"
   ]
  },
  {
   "cell_type": "code",
   "execution_count": 2,
   "metadata": {
    "scrolled": true
   },
   "outputs": [],
   "source": [
    "# 正規化関数\n",
    "def mmscaler(data):\n",
    "    mm = preprocessing.MinMaxScaler()  # 正規化エンコード、デコード\n",
    "    dat = mm.fit_transform(data)\n",
    "    return dat\n",
    "\n",
    "# 目的変数の作成関数 1:df 2:目的変数のカラム名称 3:shiftさせるカラム名称 4:shiftする数\n",
    "def shift(df, t_name, t_column, shift):\n",
    "    df[t_name] = df[t_column].shift(shift) # 1行上にずらして5分後の値にしている\n",
    "    return df"
   ]
  },
  {
   "cell_type": "code",
   "execution_count": 3,
   "metadata": {},
   "outputs": [],
   "source": [
    "# トレーニングデータの作成\n",
    "def create_data(read_dir, save_dir):\n",
    "    df = pd.read_csv(read_dir, encoding='shift_jis')\n",
    "    #カラムを削除\n",
    "    df = df.dropna()  # NaNを削除\n",
    "    #df.drop(labels='日付(ローソク足)', axis=1, inplace=True) # ろうそく足データの日付\n",
    "    \n",
    "    df['time'] = pd.to_datetime(df['time']  )#, format='%Y-%m-%d-%A %H:%M:%S')  # 日付カラムを日付型に変換\n",
    "    df['time(hour)'] = df['time'].dt.hour  # hourをデータに追加\n",
    "    df['time(minute)'] = df['time'].dt.minute  # minuteをデータに追加\n",
    "    df['time(weekday)'] = df['time'].dt.dayofweek  # minuteをデータに追加\n",
    "    # df['日付']カラムが [datetime64[ns]]型になっていて扱いづらいので最後に削除する\n",
    "    #df.drop(labels='日付', axis=1, inplace=True)\n",
    "    \n",
    "    date = df['time'] # 代入して変数を避難させる\n",
    "    \n",
    "    \n",
    "    shift(df, 'y_rate_5m', 'close', -1)  # 目的変数の作成関数\n",
    "    shift(df, 'y_rate_1h', 'close', -12)  # 目的変数の作成関数\n",
    "    shift(df, 'y_rate_4h', 'close', -48)  # 目的変数の作成関数\n",
    "    shift(df, 'y_rate_8h', 'close', -96)  # 目的変数の作成関数\n",
    "    shift(df, 'y_rate_1d', 'close', -288)  # 目的変数の作成関数\n",
    "    \n",
    "    #df = df.loc[:, '2':'time(weekday)'].astype('float32')  # データ型をfloatに変換して代入\n",
    "    #df.insert(0, 'time(week)', date)  # 日付を1列目に代入\n",
    "    #df.to_csv(save_dir , encoding='shift_jis', index=False)\n",
    "    return df"
   ]
  },
  {
   "cell_type": "code",
   "execution_count": 4,
   "metadata": {},
   "outputs": [],
   "source": [
    "# 変数宣言\n",
    "read_dir = \"./shape/1.csv\"\n",
    "save_dir =  \"./model/after.csv\"\n",
    "\n",
    "\n",
    "after = -1 # shift関数のスライド数 (1行上にずらして-分後の値にしている)\n",
    "name = '4h'\n",
    "t_column = 'close'  # 目的変数のカラム\n",
    "t_name = 'y_rate_5m'\n"
   ]
  },
  {
   "cell_type": "code",
   "execution_count": 5,
   "metadata": {},
   "outputs": [],
   "source": [
    "# ***************************************トレーニングデータの作成***************************************\n",
    "df = create_data(read_dir, save_dir)\n",
    "df.to_csv(\"./model/中間ファイル.csv\", encoding='shift_jis', index=False)\n",
    "# ***************************************トレーニングデータの作成***************************************\n",
    "\n",
    "\n"
   ]
  },
  {
   "cell_type": "code",
   "execution_count": 6,
   "metadata": {},
   "outputs": [],
   "source": [
    "def model_create():\n",
    "    #n_inputs = len(X_train.columns)  # 入力数\n",
    "    model = keras.models.Sequential()\n",
    "   # model.add(keras.layers.Dense(1200, activation='sigmoid'))\n",
    "   # model.add(keras.layers.Dense(300, activation='sigmoid'))\n",
    "   # model.add(keras.layers.Dense(6, activation='linear'))\n",
    "    model.add(keras.layers.LSTM(1, activation='linear',\n",
    "                  #recurrent_activation='sigmoid',\n",
    "                  kernel_initializer='glorot_normal',\n",
    "                   recurrent_initializer='orthogonal',\n",
    "                               batch_input_shape=(None, n_inputs, 1)))\n",
    "    #model.add(keras.layers.Dense(1200, activation='linear'))\n",
    "    #model.add(keras.layers.Dense(100, activation='linear'))\n",
    "    #model.add(keras.layers.Dense(50, activation='linear'))\n",
    "    #model.add(keras.layers.Dense(7, activation='linear'))\n",
    "    #model.add(keras.layers.Dense(1, activation='linear'))\n",
    "    \n",
    "    optimizer = keras.optimizers.Adam(lr=0.1)  # オプティマイザ\n",
    "    loss_fn = keras.losses.mse  # 損失関数\n",
    "    model.compile(loss=loss_fn, optimizer=optimizer, metrics=['mae'])  # コンパイル\n",
    "    #model.summary()\n",
    "    return model"
   ]
  },
  {
   "cell_type": "code",
   "execution_count": 7,
   "metadata": {},
   "outputs": [],
   "source": [
    "# 入力したインプットデータを正規化、形状を整える関数\n",
    "def create_traindata(df, X_train, y_train):\n",
    "\n",
    "    print('入力数:', X_train.columns)\n",
    "    row_count = len(y_train)  # 行数を取得(形状の作成に使用)\n",
    "    column_count = len(X_train.columns)  # 列数を取得(形状の作成に使用)\n",
    "    \n",
    "    print('行数:', row_count)\n",
    "    print('列数:', column_count)\n",
    "    print('整形前の形状(特徴量):', X_train.shape)\n",
    "    X_train = mm.fit_transform(X_train)  # 正規化\n",
    "    X_train = np.array(X_train).reshape(row_count, column_count, -1)  # 特徴量の形状(3次元)\n",
    "    y_train = np.array(y_train).reshape(row_count,1)  # 特徴量の形状\n",
    "    y_train = mm.fit_transform(y_train)  # 正規化\n",
    "\n",
    "    print('形状(特徴量):', X_train.shape)\n",
    "    print('形状(目的変数):', y_train.shape)\n",
    "    return X_train, y_train"
   ]
  },
  {
   "cell_type": "code",
   "execution_count": 8,
   "metadata": {},
   "outputs": [],
   "source": [
    "# モデルの学習関数\n",
    "def learn_model(X_train, y_train, model_name, param_name, epochs):\n",
    "    model = model_create()  # モデル作成\n",
    "    earlystopping = keras.callbacks.EarlyStopping(monitor='val_loss', min_delta=0, patience=7, verbose=0, mode='auto')\n",
    "    \n",
    "    # 学習 LSTM_GBPJPY\n",
    "    print('モデルの学習を開始します')\n",
    "    history_model = model.fit(X_train, y_train, batch_size=1,epochs=epochs,validation_split=0.05,\n",
    "                                                  callbacks=[\n",
    "                                                  #tensorboard,\n",
    "                                                  earlystopping\n",
    "                                                  ])\n",
    "    \n",
    "    model.save(model_name)  # モデルを保存\n",
    "    model.save_weights(param_name)  # 重みを保存\n",
    "    return model"
   ]
  },
  {
   "cell_type": "code",
   "execution_count": 9,
   "metadata": {},
   "outputs": [],
   "source": [
    "# 予測関数\n",
    "def predict(model, X_train, y_train):\n",
    "    y_pred = model(X_train)\n",
    "    y_pred = mm.inverse_transform(y_pred)  # 予測結果の正規化をデコード\n",
    "    #y_train = mm.inverse_transform(y_train)  # 実際の結果の正規化をデコード\n",
    "    return y_pred, y_train"
   ]
  },
  {
   "cell_type": "code",
   "execution_count": 10,
   "metadata": {
    "scrolled": true
   },
   "outputs": [],
   "source": [
    "# プロット関数\n",
    "def plot_result(y_pred, y_train, title):\n",
    "    flg = plt.figure()\n",
    "    fig = plt.figure(figsize=(6, 4), dpi=72, linewidth=10)\n",
    "    ax = fig.add_subplot(111, xlabel='number', ylabel='price',title=title)  # グラフ作成\n",
    "\n",
    "    ax.plot(y_pred, label='predict')  # 予測\n",
    "    ax.plot(y_train, label='actual')  # 実測\n",
    "    plt.legend()"
   ]
  },
  {
   "cell_type": "code",
   "execution_count": 11,
   "metadata": {},
   "outputs": [],
   "source": [
    "# 学習関数\n",
    "def learn(df, X_train, y_rate, title, epochs, model_dir, param_dir):\n",
    "    #**********1時間後予測**********学習のinput情報(特徴量、答え)\n",
    "    y_train = df.loc[:, y_rate]  # 全行 , 最終列\n",
    "    X_train, y_train = create_traindata(df, X_train, y_train)  # 入力したインプットデータをdropna、正規化、形状を整える\n",
    "    model = learn_model(X_train, y_train, model_dir, param_dir, epochs)  # モデルの学習\n",
    "    y_pred, y_train = predict(model, X_train, y_train) # 予測\n",
    "    y_train = df.loc[:, y_rate]  # y_trainを代入しなおす\n",
    "    plot_result(y_pred, y_train, title)  # プロット"
   ]
  },
  {
   "cell_type": "code",
   "execution_count": 12,
   "metadata": {
    "scrolled": true
   },
   "outputs": [],
   "source": [
    "# X\\trainデータ作成\n",
    "df = df.dropna()  # Nanを削除\n",
    "X_train = df.loc[:, 'open':'time(weekday)']  # 全行 , 列名称(始まり):列名称(終わり)\n",
    "n_inputs = len(X_train.columns)  # 入力数\n"
   ]
  },
  {
   "cell_type": "code",
   "execution_count": 13,
   "metadata": {},
   "outputs": [],
   "source": [
    "#model = keras.models.load_model('model.hdf5')  # モデルを読込み\n",
    "#model.load_weights('param.hdf5')  # 重みを読込み"
   ]
  },
  {
   "cell_type": "code",
   "execution_count": 14,
   "metadata": {},
   "outputs": [],
   "source": [
    "#model.save('model.hdf5')  # モデルを保存\n",
    "#model.save_weights('param.hdf5')  # 重みを保存"
   ]
  },
  {
   "cell_type": "code",
   "execution_count": 15,
   "metadata": {},
   "outputs": [
    {
     "data": {
      "text/plain": [
       "\"廃止\\n# n時間後の時刻とレートを計算してdfに反映関数\\ndef UNIX_RATE_conversion(df, time, name):\\n    # UNIX時間に変更\\n    df['日付UNIX'] = pd.to_datetime(df['日付']).dt.tz_localize('Asia/Tokyo')\\n    df['日付UNIX'] = df['日付UNIX'].astype('int64') // 10**9\\n    \\n    df['日付UNIX' + name] = df['日付UNIX'].shift(time) # 1行上にずらして5分後の値にしている\\n    df['日付UNIX_計算後' + name] = df['日付UNIX' + name] - df['日付UNIX'] # -分後の値か表した変数\\n    df['RATE' + name] = df['bid_close'].shift(time)\\n\\n    return df  # n分後のUNIX時間、レートの計算結果を反映している\\n\\n\""
      ]
     },
     "execution_count": 15,
     "metadata": {},
     "output_type": "execute_result"
    }
   ],
   "source": [
    "\"\"\"廃止\n",
    "# n時間後の時刻とレートを計算してdfに反映関数\n",
    "def UNIX_RATE_conversion(df, time, name):\n",
    "    # UNIX時間に変更\n",
    "    df['日付UNIX'] = pd.to_datetime(df['日付']).dt.tz_localize('Asia/Tokyo')\n",
    "    df['日付UNIX'] = df['日付UNIX'].astype('int64') // 10**9\n",
    "    \n",
    "    df['日付UNIX' + name] = df['日付UNIX'].shift(time) # 1行上にずらして5分後の値にしている\n",
    "    df['日付UNIX_計算後' + name] = df['日付UNIX' + name] - df['日付UNIX'] # -分後の値か表した変数\n",
    "    df['RATE' + name] = df['bid_close'].shift(time)\n",
    "\n",
    "    return df  # n分後のUNIX時間、レートの計算結果を反映している\n",
    "\n",
    "\"\"\"\n",
    "\n"
   ]
  },
  {
   "cell_type": "code",
   "execution_count": 16,
   "metadata": {},
   "outputs": [
    {
     "name": "stdout",
     "output_type": "stream",
     "text": [
      "入力数: Index(['open', 'high', 'low', 'close', 'Conversion Line', 'Base Line',\n",
      "       'Lagging Span', 'Lead 1', 'Lead 2', 'Developing Poc',\n",
      "       'Developing VA High', 'Developing VA Low', 'Volume', 'Volume MA', 'RSI',\n",
      "       'Plot', 'Plot.1', 'Oscillator', 'ATR', 'time(hour)', 'time(minute)',\n",
      "       'time(weekday)'],\n",
      "      dtype='object')\n",
      "行数: 761\n",
      "列数: 22\n",
      "整形前の形状(特徴量): (761, 22)\n",
      "形状(特徴量): (761, 22, 1)\n",
      "形状(目的変数): (761, 1)\n",
      "モデルの学習を開始します\n",
      "Epoch 1/15\n",
      "722/722 [==============================] - 5s 5ms/step - loss: 0.0669 - mae: 0.1857 - val_loss: 0.0768 - val_mae: 0.2762\n",
      "Epoch 2/15\n",
      "722/722 [==============================] - 3s 4ms/step - loss: 0.0190 - mae: 0.1101 - val_loss: 0.0444 - val_mae: 0.2095\n",
      "Epoch 3/15\n",
      "722/722 [==============================] - 3s 4ms/step - loss: 0.0152 - mae: 0.0969 - val_loss: 0.0629 - val_mae: 0.2500\n",
      "Epoch 4/15\n",
      "722/722 [==============================] - 3s 4ms/step - loss: 0.0155 - mae: 0.0963 - val_loss: 0.0180 - val_mae: 0.1309\n",
      "Epoch 5/15\n",
      "722/722 [==============================] - 4s 5ms/step - loss: 0.0112 - mae: 0.0827 - val_loss: 0.0623 - val_mae: 0.2486\n",
      "Epoch 6/15\n",
      "722/722 [==============================] - 3s 5ms/step - loss: 0.0090 - mae: 0.0738 - val_loss: 0.0086 - val_mae: 0.0912\n",
      "Epoch 7/15\n",
      "722/722 [==============================] - 3s 5ms/step - loss: 0.0075 - mae: 0.0683 - val_loss: 0.0833 - val_mae: 0.2881\n",
      "Epoch 8/15\n",
      "722/722 [==============================] - 3s 5ms/step - loss: 0.0065 - mae: 0.0647 - val_loss: 0.0347 - val_mae: 0.1855\n",
      "Epoch 9/15\n",
      "722/722 [==============================] - 3s 4ms/step - loss: 0.0069 - mae: 0.0655 - val_loss: 0.0502 - val_mae: 0.2235\n",
      "Epoch 10/15\n",
      "722/722 [==============================] - 3s 4ms/step - loss: 0.0059 - mae: 0.0613 - val_loss: 0.0932 - val_mae: 0.3048\n",
      "Epoch 11/15\n",
      "722/722 [==============================] - 3s 4ms/step - loss: 0.0066 - mae: 0.0646 - val_loss: 0.0124 - val_mae: 0.1101\n",
      "Epoch 12/15\n",
      "722/722 [==============================] - 3s 5ms/step - loss: 0.0063 - mae: 0.0630 - val_loss: 0.0285 - val_mae: 0.1680\n",
      "Epoch 13/15\n",
      "722/722 [==============================] - 3s 4ms/step - loss: 0.0064 - mae: 0.0627 - val_loss: 0.0181 - val_mae: 0.1336\n"
     ]
    },
    {
     "data": {
      "text/plain": [
       "<Figure size 432x288 with 0 Axes>"
      ]
     },
     "metadata": {},
     "output_type": "display_data"
    },
    {
     "data": {
      "image/png": "[encoded data removed]",
      "text/plain": [
       "<Figure size 432x288 with 1 Axes>"
      ]
     },
     "metadata": {
      "needs_background": "light"
     },
     "output_type": "display_data"
    }
   ],
   "source": [
    "epochs = 15\n",
    "graph_title = '5m'\n",
    "learn(df, X_train, 'y_rate_5m', 'graph_title', epochs, './model/GBPJPY_5m/model.hdf5','./model/GBPJPY_5m/param.hdf5') # 学習関数"
   ]
  },
  {
   "cell_type": "code",
   "execution_count": 17,
   "metadata": {},
   "outputs": [
    {
     "name": "stdout",
     "output_type": "stream",
     "text": [
      "入力数: Index(['open', 'high', 'low', 'close', 'Conversion Line', 'Base Line',\n",
      "       'Lagging Span', 'Lead 1', 'Lead 2', 'Developing Poc',\n",
      "       'Developing VA High', 'Developing VA Low', 'Volume', 'Volume MA', 'RSI',\n",
      "       'Plot', 'Plot.1', 'Oscillator', 'ATR', 'time(hour)', 'time(minute)',\n",
      "       'time(weekday)'],\n",
      "      dtype='object')\n",
      "行数: 761\n",
      "列数: 22\n",
      "整形前の形状(特徴量): (761, 22)\n",
      "形状(特徴量): (761, 22, 1)\n",
      "形状(目的変数): (761, 1)\n",
      "モデルの学習を開始します\n",
      "Epoch 1/15\n",
      "722/722 [==============================] - 5s 5ms/step - loss: 0.0309 - mae: 0.1275 - val_loss: 0.0591 - val_mae: 0.2354\n",
      "Epoch 2/15\n",
      "722/722 [==============================] - 4s 5ms/step - loss: 0.0180 - mae: 0.1013 - val_loss: 0.0301 - val_mae: 0.1723\n",
      "Epoch 3/15\n",
      "722/722 [==============================] - 4s 6ms/step - loss: 0.0142 - mae: 0.0919 - val_loss: 0.0015 - val_mae: 0.0315\n",
      "Epoch 4/15\n",
      "722/722 [==============================] - 4s 5ms/step - loss: 0.0117 - mae: 0.0819 - val_loss: 0.0355 - val_mae: 0.1876\n",
      "Epoch 5/15\n",
      "722/722 [==============================] - 3s 4ms/step - loss: 0.0120 - mae: 0.0841 - val_loss: 7.3153e-04 - val_mae: 0.0226\n",
      "Epoch 6/15\n",
      "722/722 [==============================] - 3s 5ms/step - loss: 0.0094 - mae: 0.0714 - val_loss: 0.1027 - val_mae: 0.3199\n",
      "Epoch 7/15\n",
      "722/722 [==============================] - 3s 4ms/step - loss: 0.0109 - mae: 0.0801 - val_loss: 0.0638 - val_mae: 0.2519\n",
      "Epoch 8/15\n",
      "722/722 [==============================] - 3s 5ms/step - loss: 0.0097 - mae: 0.0769 - val_loss: 0.0229 - val_mae: 0.1501\n",
      "Epoch 9/15\n",
      "722/722 [==============================] - 3s 4ms/step - loss: 0.0085 - mae: 0.0720 - val_loss: 0.1034 - val_mae: 0.3211\n",
      "Epoch 10/15\n",
      "722/722 [==============================] - 3s 4ms/step - loss: 0.0072 - mae: 0.0640 - val_loss: 0.0532 - val_mae: 0.2300\n",
      "Epoch 11/15\n",
      "722/722 [==============================] - 3s 4ms/step - loss: 0.0081 - mae: 0.0712 - val_loss: 0.0193 - val_mae: 0.1377\n",
      "Epoch 12/15\n",
      "722/722 [==============================] - 3s 4ms/step - loss: 0.0084 - mae: 0.0698 - val_loss: 0.0279 - val_mae: 0.1662\n"
     ]
    },
    {
     "data": {
      "text/plain": [
       "<Figure size 432x288 with 0 Axes>"
      ]
     },
     "metadata": {},
     "output_type": "display_data"
    },
    {
     "data": {
      "image/png": "[encoded data removed]",
      "text/plain": [
       "<Figure size 432x288 with 1 Axes>"
      ]
     },
     "metadata": {
      "needs_background": "light"
     },
     "output_type": "display_data"
    }
   ],
   "source": [
    "epochs = 15\n",
    "graph_title = '1h'\n",
    "learn(df, X_train, 'y_rate_1h', graph_title, epochs, './model/GBPJPY_1h/model.hdf5','./model/GBPJPY_1h/param.hdf5') # 学習関数"
   ]
  },
  {
   "cell_type": "code",
   "execution_count": 18,
   "metadata": {
    "scrolled": true
   },
   "outputs": [
    {
     "name": "stdout",
     "output_type": "stream",
     "text": [
      "入力数: Index(['open', 'high', 'low', 'close', 'Conversion Line', 'Base Line',\n",
      "       'Lagging Span', 'Lead 1', 'Lead 2', 'Developing Poc',\n",
      "       'Developing VA High', 'Developing VA Low', 'Volume', 'Volume MA', 'RSI',\n",
      "       'Plot', 'Plot.1', 'Oscillator', 'ATR', 'time(hour)', 'time(minute)',\n",
      "       'time(weekday)'],\n",
      "      dtype='object')\n",
      "行数: 761\n",
      "列数: 22\n",
      "整形前の形状(特徴量): (761, 22)\n",
      "形状(特徴量): (761, 22, 1)\n",
      "形状(目的変数): (761, 1)\n",
      "モデルの学習を開始します\n",
      "Epoch 1/15\n",
      "722/722 [==============================] - 4s 4ms/step - loss: 0.0325 - mae: 0.1267 - val_loss: 0.0304 - val_mae: 0.1670\n",
      "Epoch 2/15\n",
      "722/722 [==============================] - 3s 5ms/step - loss: 0.0167 - mae: 0.1032 - val_loss: 0.0359 - val_mae: 0.1875\n",
      "Epoch 3/15\n",
      "722/722 [==============================] - 3s 4ms/step - loss: 0.0160 - mae: 0.1008 - val_loss: 0.0065 - val_mae: 0.0692\n",
      "Epoch 4/15\n",
      "722/722 [==============================] - 4s 5ms/step - loss: 0.0144 - mae: 0.0927 - val_loss: 0.0343 - val_mae: 0.1831\n",
      "Epoch 5/15\n",
      "722/722 [==============================] - 3s 4ms/step - loss: 0.0149 - mae: 0.0958 - val_loss: 0.0104 - val_mae: 0.0978\n",
      "Epoch 6/15\n",
      "722/722 [==============================] - 3s 4ms/step - loss: 0.0168 - mae: 0.0963 - val_loss: 0.0089 - val_mae: 0.0892\n",
      "Epoch 7/15\n",
      "722/722 [==============================] - 3s 4ms/step - loss: 0.0142 - mae: 0.0911 - val_loss: 0.0261 - val_mae: 0.1588\n",
      "Epoch 8/15\n",
      "722/722 [==============================] - 3s 5ms/step - loss: 0.0154 - mae: 0.0941 - val_loss: 0.0681 - val_mae: 0.2584\n",
      "Epoch 9/15\n",
      "722/722 [==============================] - 3s 4ms/step - loss: 0.0133 - mae: 0.0884 - val_loss: 0.0154 - val_mae: 0.1194\n",
      "Epoch 10/15\n",
      "722/722 [==============================] - 4s 5ms/step - loss: 0.0133 - mae: 0.0861 - val_loss: 0.0041 - val_mae: 0.0606\n",
      "Epoch 11/15\n",
      "722/722 [==============================] - 3s 4ms/step - loss: 0.0149 - mae: 0.0917 - val_loss: 0.0159 - val_mae: 0.1048\n",
      "Epoch 12/15\n",
      "722/722 [==============================] - 3s 5ms/step - loss: 0.0149 - mae: 0.0929 - val_loss: 0.3126 - val_mae: 0.5108\n",
      "Epoch 13/15\n",
      "722/722 [==============================] - 3s 4ms/step - loss: 0.0139 - mae: 0.0896 - val_loss: 0.0173 - val_mae: 0.1270\n",
      "Epoch 14/15\n",
      "722/722 [==============================] - 3s 4ms/step - loss: 0.0154 - mae: 0.0933 - val_loss: 0.0233 - val_mae: 0.1501\n",
      "Epoch 15/15\n",
      "722/722 [==============================] - 3s 4ms/step - loss: 0.0136 - mae: 0.0846 - val_loss: 8.3112e-04 - val_mae: 0.0231\n"
     ]
    },
    {
     "data": {
      "text/plain": [
       "<Figure size 432x288 with 0 Axes>"
      ]
     },
     "metadata": {},
     "output_type": "display_data"
    },
    {
     "data": {
      "image/png": "[encoded data removed]",
      "text/plain": [
       "<Figure size 432x288 with 1 Axes>"
      ]
     },
     "metadata": {
      "needs_background": "light"
     },
     "output_type": "display_data"
    }
   ],
   "source": [
    "epochs = 15\n",
    "graph_title = '4h'\n",
    "learn(df, X_train, 'y_rate_4h', graph_title, epochs, './model/GBPJPY_4h/model.hdf5','./model/GBPJPY_4h/param.hdf5') # 学習関数"
   ]
  },
  {
   "cell_type": "code",
   "execution_count": null,
   "metadata": {},
   "outputs": [
    {
     "name": "stdout",
     "output_type": "stream",
     "text": [
      "入力数: Index(['open', 'high', 'low', 'close', 'Conversion Line', 'Base Line',\n",
      "       'Lagging Span', 'Lead 1', 'Lead 2', 'Developing Poc',\n",
      "       'Developing VA High', 'Developing VA Low', 'Volume', 'Volume MA', 'RSI',\n",
      "       'Plot', 'Plot.1', 'Oscillator', 'ATR', 'time(hour)', 'time(minute)',\n",
      "       'time(weekday)'],\n",
      "      dtype='object')\n",
      "行数: 761\n",
      "列数: 22\n",
      "整形前の形状(特徴量): (761, 22)\n",
      "形状(特徴量): (761, 22, 1)\n",
      "形状(目的変数): (761, 1)\n",
      "モデルの学習を開始します\n",
      "Epoch 1/15\n",
      "722/722 [==============================] - 5s 5ms/step - loss: 0.0645 - mae: 0.1798 - val_loss: 0.0510 - val_mae: 0.2124\n",
      "Epoch 2/15\n",
      "722/722 [==============================] - 3s 4ms/step - loss: 0.0319 - mae: 0.1307 - val_loss: 0.1046 - val_mae: 0.3193\n",
      "Epoch 3/15\n",
      "722/722 [==============================] - 3s 5ms/step - loss: 0.0347 - mae: 0.1351 - val_loss: 0.2123 - val_mae: 0.4590\n",
      "Epoch 4/15\n",
      "722/722 [==============================] - 3s 5ms/step - loss: 0.0309 - mae: 0.1328 - val_loss: 0.0803 - val_mae: 0.2694\n",
      "Epoch 5/15\n",
      "722/722 [==============================] - 3s 4ms/step - loss: 0.0243 - mae: 0.1177 - val_loss: 0.0334 - val_mae: 0.1619\n",
      "Epoch 6/15\n",
      "722/722 [==============================] - 3s 4ms/step - loss: 0.0243 - mae: 0.1149 - val_loss: 0.2234 - val_mae: 0.4707\n",
      "Epoch 7/15\n",
      "722/722 [==============================] - 3s 4ms/step - loss: 0.0291 - mae: 0.1271 - val_loss: 0.1895 - val_mae: 0.4335\n",
      "Epoch 8/15\n",
      "722/722 [==============================] - 3s 5ms/step - loss: 0.0238 - mae: 0.1139 - val_loss: 0.0385 - val_mae: 0.1791\n",
      "Epoch 9/15\n",
      "  1/722 [..............................] - ETA: 8s - loss: 0.0075 - mae: 0.0865"
     ]
    }
   ],
   "source": [
    "epochs = 15\n",
    "graph_title = '8h'\n",
    "learn(df, X_train, 'y_rate_8h', graph_title, epochs, './model/GBPJPY_8h/model.hdf5','./model/GBPJPY_8h/param.hdf5') # 学習関数"
   ]
  },
  {
   "cell_type": "code",
   "execution_count": null,
   "metadata": {},
   "outputs": [],
   "source": [
    "epochs = 15\n",
    "graph_title = '1d'\n",
    "learn(df, X_train, 'y_rate_1d', graph_title, epochs, './model/GBPJPY_1d/model.hdf5','./model/GBPJPY_1d/param.hdf5') # 学習関数"
   ]
  },
  {
   "cell_type": "code",
   "execution_count": null,
   "metadata": {},
   "outputs": [],
   "source": []
  }
 ],
 "metadata": {
  "kernelspec": {
   "display_name": "Python 3",
   "language": "python",
   "name": "python3"
  },
  "language_info": {
   "codemirror_mode": {
    "name": "ipython",
    "version": 3
   },
   "file_extension": ".py",
   "mimetype": "text/x-python",
   "name": "python",
   "nbconvert_exporter": "python",
   "pygments_lexer": "ipython3",
   "version": "3.8.5"
  }
 },
 "nbformat": 4,
 "nbformat_minor": 4
}
